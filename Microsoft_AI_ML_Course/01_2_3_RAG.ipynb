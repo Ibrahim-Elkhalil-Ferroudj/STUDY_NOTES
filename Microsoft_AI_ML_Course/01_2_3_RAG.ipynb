{
 "cells": [
  {
   "cell_type": "markdown",
   "id": "e7333742",
   "metadata": {},
   "source": [
    "# Retieval augmented generation (RAG)\n",
    "This can transform AI projects combining retreival and generation to create smarter and more reliable systems, Enhance AI models through real-time data, enhancing accuracy and meeting complex project demands. \n",
    "\n",
    "## Definition \n",
    " At it's core, this is a hybrid approach that combines two AI techniques, ***\"Retreival and generation\"***\n",
    "\n",
    "- **Retreival Process**: In this step, the AI doesn't just rely on the data it was trained on. But searches for relevant information from external databases. The goal here is to enhance the AI with real-time relevant data.\n",
    "- **Generation Process**: After retreival, the AI uses that information as a foundation to generate new content.\n",
    "\n",
    "## Data Sources in RAG\n",
    "\n",
    "- Knowledge vases, document repositories, APIs and real-time data feed and web scrapping. \n",
    "\n",
    "## Best practices for RAG applications\n",
    "- Data governance : This involves setting clear polices for data access, data quality and data life cycle managment.\n",
    "- Data Quality : The quality of the data retreived data directly affects the quality of the generated content. To maintain high quality data, regular data source audit is needed and implementing automated data validation processes when possible so that any issue can be directly identified and corrected.\n",
    "- Data Scalablity : It is essential to design your data infrastructure to scale seamlessly. This invloves using cloud based solutions and distributed databases that can handle large amounts of data xith minimal latency. Additionally, implementing cashing strategies to refuce the load on the data sources and reduce response time.\n",
    "- Data security : Ensure the data is securely encrypted both at rest and in transit. Implement role based access controls to limit who can access or modify the data.\n",
    "- Data Fresheness: Having access to up to data data is crucial for generating content, set up automated data pipelines to ensure they are updated. \n",
    "\n",
    "## Common types of data collection errors\n",
    "- Sampling Error : These occur when the data collecteed is not representative of the entire poplulation. Either sample size is to small or sampling is biased. \n",
    "- Measurement errors : This occurs when there is a flaw in the process of measuring or recording data.\n",
    "- Data Entry errors: Mistakes occuring during the manual input of data.\n",
    "- Respose Bias : When responders provide inaccurate or dishonest answers.\n",
    "- Non-response errors.\n",
    "\n",
    "## Methods for identifying data collections errors\n",
    "- Descriptive analysis (mean, median and standard deviation) to identify anomalies.\n",
    "- Data visualization : Visual tools such as histograms, box plots and scatter plots to visually inspect data for outliers or unexpected patterns.\n",
    "- Cross validation : Compare your collected data against other known or trusted data sources to validate it's accuracy.\n",
    "- Data auditing: Perform regular audits of your data collection process, including manual checks for data entry, sensor calibration and data recording methods. \n",
    "\n",
    "### Strategies for mitigating data collection errors. \n",
    "- Standardize data collection processes: to minimize variablity and errors. \n",
    "- Train data collectors, automate data collection, implement real-time error detection.\n"
   ]
  }
 ],
 "metadata": {
  "kernelspec": {
   "display_name": "Python 3",
   "language": "python",
   "name": "python3"
  },
  "language_info": {
   "codemirror_mode": {
    "name": "ipython",
    "version": 3
   },
   "file_extension": ".py",
   "mimetype": "text/x-python",
   "name": "python",
   "nbconvert_exporter": "python",
   "pygments_lexer": "ipython3",
   "version": "3.13.7"
  }
 },
 "nbformat": 4,
 "nbformat_minor": 5
}
