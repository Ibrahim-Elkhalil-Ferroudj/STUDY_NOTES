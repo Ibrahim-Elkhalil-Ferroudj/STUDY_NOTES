{
 "cells": [
  {
   "cell_type": "markdown",
   "id": "63b1ec23",
   "metadata": {},
   "source": [
    "##### Some week 1 notes \n",
    "\n",
    "sub code Range(\"Cell\") ==> For example Range(\"A1\")\n",
    "*This will select the cell \"A1\" and assign it the value you have given it*\n",
    "\n",
    "Logical Operators in VBA:\n",
    "- (>,<): Greater or smaller than. \n",
    "- (>=, <=) : Greater or equal than, Smaller or equal than\n",
    "- (=) : Equal to\n",
    "- (<>): Not equal to\n",
    "Also some operators are *And, Or, Not*\n",
    "\n",
    "There also conditional statements in VBA and they can be executed in sub codes or in functions and they are of this form : \n",
    "> If (condition)  ----- Then (Action)\n",
    " \n",
    "###### Object Collections: \n",
    "- Workbooks.\n",
    "- Worksheet.\n",
    "- Charts.\n",
    "\n",
    "To reffer to any of these collections it is done in the following matter: \n",
    "- Refferences : Worksheets(\"Main\"), Charts(\"XY\")\n",
    "- Complete refferences : Application.Workbook(\"Project1\").Worksheet(\"Main\").Range(\"B15\")\n",
    "\n",
    "When dealing with objects: There are *Properties* and *Methods* and *Events*. you can use *F2* To explore them.\n",
    "\n",
    "When refferencing: we could use the Range Method : \n",
    "Range(\"CellXYZ\"), Range(\"CellXY\": Cell\"ZA\"), Range(\"Name\"), Range(\"D:D\"), Range(\"3:3\")\n",
    "\n",
    "Or we can use the \"Cells\" Property: \n",
    "Cells(4,5) *This will sellect row 4 Column 5* \n",
    "\n",
    "Then there is the *Offset* property : \n",
    "- Range(\"Temp\").Offset(1,1) *This will offset the selected cell by 1 Row and 1 column*.\n",
    "- Range can have a Range: Range(\"A2:C6\").Range(\"B2\").\n",
    "\n",
    "###### Common Excel functions to borrow in VBA : \n",
    "\n",
    "- **COUNT**: Counts the number of nummeric values in a range.\n",
    "- **COUNTA**: Counts the number of non-blank cells in a range.\n",
    "- **SUM**,**AVERAGE**,**MIN**,**MAX**.\n",
    "- **SUMIF, COUNTIF**. \n",
    "\n"
   ]
  }
 ],
 "metadata": {
  "language_info": {
   "name": "python"
  }
 },
 "nbformat": 4,
 "nbformat_minor": 5
}
