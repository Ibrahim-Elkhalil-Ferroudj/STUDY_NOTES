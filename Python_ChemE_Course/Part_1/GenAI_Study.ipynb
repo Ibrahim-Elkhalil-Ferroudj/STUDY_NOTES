{
 "cells": [
  {
   "cell_type": "markdown",
   "id": "764bc620",
   "metadata": {},
   "source": [
    "### This Notebook is going to be dedicated for the same OOP exercises but for the ones suggested by Generative AI tools \n",
    "\n",
    "#### I will be starting with the ones suggested by Grok \n",
    "\n",
    "1. ##### ***Exercise N°1: Basic Class and Object Creation***\n",
    "**Task**: Create a *Car* class with attributes for brand, model, and year. Include a method to display the car's details"
   ]
  },
  {
   "cell_type": "code",
   "execution_count": 2,
   "id": "591efd22",
   "metadata": {},
   "outputs": [
    {
     "name": "stdout",
     "output_type": "stream",
     "text": [
      "            Brand: Toyota\n",
      "            Model: Corolla\n",
      "            Year: 2020\n"
     ]
    }
   ],
   "source": [
    "class Car():\n",
    "    def __init__(self,brand,model,year):\n",
    "        self.brand = brand\n",
    "        self.model = model\n",
    "        self.year = year\n",
    "    def display_details(self):\n",
    "        details = f'\\\n",
    "            Brand: {self.brand}\\n\\\n",
    "            Model: {self.model}\\n\\\n",
    "            Year: {self.year}'\n",
    "        return details\n",
    "    \n",
    "# --- IGNORE ---\n",
    "my_car = Car('Toyota','Corolla',2020)\n",
    "print(my_car.display_details())"
   ]
  },
  {
   "cell_type": "markdown",
   "id": "bbfefc00",
   "metadata": {},
   "source": [
    "#### 2. ***Exercise N°2: Encapsulation with private attributes***\n",
    "**Task**: Create a *Bank account* class with a private balance attribute. Include methods to deposit, withdraw, and check balance, ensuring the balance cannot go negative."
   ]
  },
  {
   "cell_type": "code",
   "execution_count": 7,
   "id": "0bdedc79",
   "metadata": {},
   "outputs": [
    {
     "name": "stdout",
     "output_type": "stream",
     "text": [
      "Initial balance: 100\n",
      "Balance after deposit: 150\n",
      "Balance after withdrawal: 120\n"
     ]
    }
   ],
   "source": [
    "class BankAccount():\n",
    "    def __init__(self, initial_balance=0):\n",
    "        self.__balance = initial_balance # Private attribute\n",
    "\n",
    "    def deposit(self, amount):\n",
    "        if amount > 0:\n",
    "            self.__balance += amount\n",
    "        else:\n",
    "            print(\"Deposit amount must be positive.\")\n",
    "\n",
    "    def withdraw(self, amount):\n",
    "        if 0 < amount <= self.__balance:\n",
    "            self.__balance -= amount\n",
    "        else:\n",
    "            print(\"Insufficient funds or invalid withdrawal amount.\")\n",
    "\n",
    "    def check_balance(self):\n",
    "        return self.__balance\n",
    "\n",
    "# --- IGNORE ---\n",
    "my_account = BankAccount(100)\n",
    "print(f'Initial balance: {my_account.check_balance()}')\n",
    "my_account.deposit(50)\n",
    "print(f'Balance after deposit: {my_account.check_balance()}')\n",
    "my_account.withdraw(30)\n",
    "print(f'Balance after withdrawal: {my_account.check_balance()}')\n"
   ]
  },
  {
   "cell_type": "markdown",
   "id": "1acfcaac",
   "metadata": {},
   "source": [
    "#### 3. ***Exercice N°3: Inheritance and method overriding***\n",
    "**Task**: Create a base class *Animal* with a *speak* method. Create two derived classes, *Dog* and *Cat*, That override the *speak* method"
   ]
  },
  {
   "cell_type": "code",
   "execution_count": 11,
   "id": "2936d89f",
   "metadata": {},
   "outputs": [
    {
     "name": "stdout",
     "output_type": "stream",
     "text": [
      "Buddy says Woof!\n",
      "Whiskers says Meow!\n"
     ]
    }
   ],
   "source": [
    "class Animal():\n",
    "    def __init__(self, name):\n",
    "        self.name = name\n",
    "    def speak(self):\n",
    "        return f\"{self.name} makes a sound.\"\n",
    "class Dog(Animal):\n",
    "    def speak(self):\n",
    "        return f\"{self.name} says Woof!\"\n",
    "class Cat(Animal):\n",
    "    def speak(self):\n",
    "        return f\"{self.name} says Meow!\"\n",
    "    \n",
    "    \n",
    "# --- IGNORE ---\n",
    "dog = Dog(\"Buddy\")\n",
    "cat = Cat(\"Whiskers\")\n",
    "print(dog.speak())\n",
    "print(cat.speak())\n"
   ]
  },
  {
   "cell_type": "markdown",
   "id": "daf9f3d2",
   "metadata": {},
   "source": [
    "#### 4. ***Exercise N°4: Polymorphism with a common interface***\n",
    "**Task**: Create a *shape* base class with an *area* method. Create two derived classes, *Circle* and *Rectangle*, that implement the *area* method differently."
   ]
  },
  {
   "cell_type": "code",
   "execution_count": 14,
   "id": "20605af7",
   "metadata": {},
   "outputs": [
    {
     "name": "stdout",
     "output_type": "stream",
     "text": [
      "Area of the circle: 78.53981633974483\n",
      "Area of the rectangle: 24\n"
     ]
    }
   ],
   "source": [
    "import math\n",
    "class shape():\n",
    "    def area(self):\n",
    "        pass\n",
    "class Circle(shape):\n",
    "    def __init__(self, radius):\n",
    "        self.radius = radius\n",
    "    def area(self):\n",
    "            return math.pi* (self.radius ** 2)\n",
    "class Rectangle(shape):\n",
    "    def __init__(self, width, height):\n",
    "        self.width = width\n",
    "        self.height = height\n",
    "    def area(self):\n",
    "        return self.width * self.height\n",
    "    \n",
    "# --- IGNORE ---\n",
    "circle = Circle(5)\n",
    "rectangle = Rectangle(4, 6)\n",
    "print(f'Area of the circle: {circle.area()}')\n",
    "print(f'Area of the rectangle: {rectangle.area()}')\n",
    "\n"
   ]
  },
  {
   "cell_type": "markdown",
   "id": "d108c831",
   "metadata": {},
   "source": [
    "#### 5. ***Exercise N°5: Abstraction with abstract base class***\n",
    "*Task*: Create an abstract base class *vehicle* with an abstract method *start-engine*. Create two concrete classes, *Motorcycle* and *Truck*, that implement *Start-engine* "
   ]
  },
  {
   "cell_type": "code",
   "execution_count": 15,
   "id": "e2a19298",
   "metadata": {},
   "outputs": [
    {
     "name": "stdout",
     "output_type": "stream",
     "text": [
      "Harley motorcycle engine starts with a roar!\n",
      "Ford truck engine starts with a rumble!\n"
     ]
    }
   ],
   "source": [
    "from abc import ABC, abstractmethod\n",
    "\n",
    "class Vehicle(ABC):\n",
    "    def __init__(self, brand):\n",
    "        self.brand = brand\n",
    "    \n",
    "    @abstractmethod\n",
    "    def start_engine(self):\n",
    "        pass\n",
    "\n",
    "class Motorcycle(Vehicle):\n",
    "    def start_engine(self):\n",
    "        return f\"{self.brand} motorcycle engine starts with a roar!\"\n",
    "\n",
    "class Truck(Vehicle):\n",
    "    def start_engine(self):\n",
    "        return f\"{self.brand} truck engine starts with a rumble!\"\n",
    "\n",
    "# Example usage\n",
    "moto = Motorcycle(\"Harley\")\n",
    "truck = Truck(\"Ford\")\n",
    "print(moto.start_engine())  # Harley motorcycle engine starts with a roar!\n",
    "print(truck.start_engine())  # Ford truck engine starts with a rumble!"
   ]
  },
  {
   "cell_type": "markdown",
   "id": "5e64366e",
   "metadata": {},
   "source": [
    "##### 6. ***Exercise N°6: Class Composition*** \n",
    "**Task**: Create en *Engine* class and a *Car* class that use en *Engine* object as a compontent to demonstrate composition"
   ]
  },
  {
   "cell_type": "code",
   "execution_count": 1,
   "id": "d5183f40",
   "metadata": {},
   "outputs": [
    {
     "name": "stdout",
     "output_type": "stream",
     "text": [
      "BMW X5: Engine with 300 HP starts.\n"
     ]
    }
   ],
   "source": [
    "class Engine:\n",
    "    def __init__(self, horsepower):\n",
    "        self.horsepower = horsepower\n",
    "    \n",
    "    def start(self):\n",
    "        return f\"Engine with {self.horsepower} HP starts.\"\n",
    "\n",
    "class Car:\n",
    "    def __init__(self, brand, model, engine):\n",
    "        self.brand = brand\n",
    "        self.model = model\n",
    "        self.engine = engine\n",
    "    \n",
    "    def start_car(self):\n",
    "        return f\"{self.brand} {self.model}: {self.engine.start()}\"\n",
    "\n",
    "# Example usage\n",
    "engine = Engine(300)\n",
    "car = Car(\"BMW\", \"X5\", engine)\n",
    "print(car.start_car())  # BMW X5: Engine with 300 HP starts."
   ]
  },
  {
   "cell_type": "markdown",
   "id": "0dcaaab5",
   "metadata": {},
   "source": [
    "##### 7. Exercise N°7: Multiple Inheritance \n",
    "**Task**: Create a *Flyable* and *Swimmable* class, then create a *Duck* class that inherits from both to demonstrate multiple inheritance\n"
   ]
  },
  {
   "cell_type": "code",
   "execution_count": 5,
   "id": "42036c43",
   "metadata": {},
   "outputs": [
    {
     "name": "stdout",
     "output_type": "stream",
     "text": [
      "Daffy says Quack!\n",
      "Flying!\n",
      "Swimming!\n"
     ]
    }
   ],
   "source": [
    "class Flyable:\n",
    "    def fly(self):\n",
    "        return \"Flying!\"\n",
    "class Swimmable:\n",
    "    def swim(self):\n",
    "        return \"Swimming!\"\n",
    "class Duck(Flyable, Swimmable):\n",
    "    def __init__(self, name):\n",
    "        self.name = name\n",
    "    def quack(self):\n",
    "        return f\"{self.name} says Quack!\"\n",
    "\n",
    "# Example usage\n",
    "duck = Duck(\"Daffy\")\n",
    "print(duck.quack())  # Daffy says Quack!\n",
    "print(duck.fly())    # Flying!\n",
    "print(duck.swim())   # Swimming!\n",
    "\n",
    "\n",
    "    \n",
    "        "
   ]
  },
  {
   "cell_type": "markdown",
   "id": "9bfb04e7",
   "metadata": {},
   "source": [
    "##### Exercise 8: Static and class Methods\n",
    "**Task** Create a *Library* class with a static method to validate ISBN numbers and a class method to track the total number of books.\n"
   ]
  },
  {
   "cell_type": "code",
   "execution_count": 16,
   "id": "e0ae3817",
   "metadata": {},
   "outputs": [
    {
     "name": "stdout",
     "output_type": "stream",
     "text": [
      "True\n",
      "False\n",
      "Total books in library: 2\n"
     ]
    }
   ],
   "source": [
    "class Library:\n",
    "    total_books = 0 # Class variable to track total number of books\n",
    "\n",
    "    def __init__(self, title, isbn):\n",
    "        self.title = title\n",
    "        self.isbn = isbn\n",
    "        Library.total_books += 1\n",
    "\n",
    "    @staticmethod\n",
    "    def validate_isbn(isbn):\n",
    "        # Simple validation: ISBN should be 10 or 13 digits\n",
    "        return len(isbn) in [10, 13] and isbn.isdigit()\n",
    "    @classmethod\n",
    "    def get_total_books(cls):\n",
    "        return f\"Total books in library: {cls.total_books}\"\n",
    "    \n",
    "# Example usage\n",
    "book1 = Library(\"1984\", \"1234567890\")\n",
    "book2 = Library(\"Brave New World\", \"1234567890123\")\n",
    "print(Library.validate_isbn(book1.isbn))  # True\n",
    "print(Library.validate_isbn(\"invalid_isbn\"))  # False\n",
    "print(Library.get_total_books())  # Total books in library: 2\n",
    "# --- IGNORE ---\n",
    "\n",
    "\n"
   ]
  },
  {
   "cell_type": "markdown",
   "id": "76e9779a",
   "metadata": {},
   "source": [
    "##### Exercise N°9: Property Decorators for Getter and setter\n",
    "**Task**: Creat a *Person* class with a *name* property that ensures the name is a non-empty string"
   ]
  },
  {
   "cell_type": "code",
   "execution_count": 21,
   "id": "5c8873b6",
   "metadata": {},
   "outputs": [
    {
     "name": "stdout",
     "output_type": "stream",
     "text": [
      "<property object at 0x000000F947E4F5B0>\n"
     ]
    }
   ],
   "source": [
    "class Person():\n",
    "    def __init__(self, name):\n",
    "        self._name = None\n",
    "        self.name = name  # Use the setter for initial assignment\n",
    "\n",
    "    @property\n",
    "    def name(self):\n",
    "        return self._name\n",
    "\n",
    "    @name.setter\n",
    "    def name(self, value):\n",
    "        if isinstance(value, str) and value.strip():\n",
    "            self._name = value\n",
    "        else:\n",
    "            raise ValueError(\"Name must be a non-empty string.\")\n",
    "        \n",
    "# Example usage\n",
    "person = Person(\"Alice\")\n",
    "print(Person.name)  # Alice\n",
    "\n"
   ]
  },
  {
   "cell_type": "markdown",
   "id": "f40c8f19",
   "metadata": {},
   "source": [
    "##### Exercise N°10: Advanced Example with Operator Overloading\n",
    "**Task** Create a *Vector* class that supports addition and string representation of 2D vectors."
   ]
  },
  {
   "cell_type": "code",
   "execution_count": null,
   "id": "3b60f02b",
   "metadata": {},
   "outputs": [
    {
     "name": "stdout",
     "output_type": "stream",
     "text": [
      "True\n"
     ]
    }
   ],
   "source": [
    "class Vector():\n",
    "    def __init__(self, x, y):\n",
    "        self.x = x\n",
    "        self.y = y\n",
    "    \n",
    "    def __add__(self, other): # Overloading the + operator\n",
    "        return Vector(self.x + other.x, self.y + other.y) # Return a new Vector instance\n",
    "    \n",
    "    def __str__(self): # String representation\n",
    "        return f\"Vector({self.x}, {self.y})\" # Return a string representation\n",
    "    \n",
    "    def __eq__(self, other):# Overloading the == operator\n",
    "        return self.x == other.x and self.y == other.y # Compare two Vector instances\n",
    "    \n",
    "# Example usage\n",
    "v1 = Vector(2, 3)\n",
    "v2 = Vector(2, 3)\n",
    "print(v1 == v2)  # True\n",
    "\n"
   ]
  },
  {
   "cell_type": "markdown",
   "id": "f3d89b28",
   "metadata": {},
   "source": [
    "##### Now the exercises of Grok are done\n",
    "Lets now move to the Chat GPT exercises\n",
    "---\n",
    "#### Exercise N°1: Create a class *Book* with attributes *titel*, *author*, and *year*. \n",
    "- Add a method *description()* that prints something like: \n",
    "*\"title:1984, Author: George Orwell, Year: 1949\"*.\n",
    "- Create 2 book objects and call the method on them."
   ]
  },
  {
   "cell_type": "code",
   "execution_count": 27,
   "id": "24270a8a",
   "metadata": {},
   "outputs": [
    {
     "name": "stdout",
     "output_type": "stream",
     "text": [
      "title: 1984, Author: George Orwell, Year: 1949\n"
     ]
    }
   ],
   "source": [
    "class Book():\n",
    "    def __init__(self, title, author, year):\n",
    "        self.title = title\n",
    "        self.author = author\n",
    "        self.year = year\n",
    "    \n",
    "    def description(self):\n",
    "        return f\"title: {self.title}, Author: {self.author}, Year: {self.year}\"\n",
    "    \n",
    "# Example usage\n",
    "book1 = Book(\"1984\", \"George Orwell\", 1949)\n",
    "book2 = Book(\"To Kill a Mockingbird\", \"Harper Lee\", 1960)\n",
    "print(book1.description())\n",
    "\n"
   ]
  },
  {
   "cell_type": "markdown",
   "id": "aab7b888",
   "metadata": {},
   "source": [
    "##### Exercise N°2: Custom Container\n",
    "**Task** Create a class *ShoppingCart*\n",
    "- Internally, it stores items in a list.\n",
    "- implement *__len__*, *__getitem__*, and *__add__*.\n"
   ]
  },
  {
   "cell_type": "code",
   "execution_count": 58,
   "id": "aaea1a84",
   "metadata": {},
   "outputs": [
    {
     "name": "stdout",
     "output_type": "stream",
     "text": [
      "Cart A items=['Apple', 'Banana', 'Rice'])\n",
      "Cart B items=['Orange'])\n",
      "Cart C items=['Apple', 'Banana', 'Rice', 'Orange'])\n"
     ]
    }
   ],
   "source": [
    "class ShoppingCart:\n",
    "    def __init__(self, items=None, name=\"Unnamed Cart\"):\n",
    "        if items is not None:\n",
    "            self.items = items\n",
    "        else:\n",
    "            self.items = []\n",
    "        self.name = name  # each cart has a name\n",
    "    \n",
    "    def add_item(self, item):\n",
    "        self.items.append(item)\n",
    "    \n",
    "    def __len__(self):\n",
    "        return len(self.items)\n",
    "    \n",
    "    def __getitem__(self, index):\n",
    "        return self.items[index]\n",
    "    \n",
    "    def __add__(self, other):\n",
    "        # create a new cart that merges items and names\n",
    "        new_cart = ShoppingCart()\n",
    "        new_cart.items = self.items + other.items\n",
    "        new_cart.name = f\"{self.name} + {other.name}\"\n",
    "        return new_cart\n",
    "    \n",
    "    def __str__(self):\n",
    "        return f\"{self.name} items={self.items})\"\n",
    "    \n",
    "\n",
    "# Example usage\n",
    "cart1 = ShoppingCart([\"Apple\", \"Banana\"], name=\"Cart A\")\n",
    "cart1.add_item(\"Rice\")\n",
    "print(cart1)   # ShoppingCart(name='Cart A', items=['Apple', 'Banana', 'Rice'])\n",
    "\n",
    "cart2 = ShoppingCart([\"Orange\"], name=\"Cart B\")\n",
    "print(cart2)   # ShoppingCart(name='Cart B', items=['Orange'])\n",
    "\n",
    "cart3 = cart1 + cart2\n",
    "cart3.name = \"Cart C\"\n",
    "print(cart3)   # ShoppingCart(name='Cart A + Cart B', items=['Apple', 'Banana', 'Rice', 'Orange'])\n"
   ]
  }
 ],
 "metadata": {
  "kernelspec": {
   "display_name": "Python 3",
   "language": "python",
   "name": "python3"
  },
  "language_info": {
   "codemirror_mode": {
    "name": "ipython",
    "version": 3
   },
   "file_extension": ".py",
   "mimetype": "text/x-python",
   "name": "python",
   "nbconvert_exporter": "python",
   "pygments_lexer": "ipython3",
   "version": "3.13.7"
  }
 },
 "nbformat": 4,
 "nbformat_minor": 5
}
