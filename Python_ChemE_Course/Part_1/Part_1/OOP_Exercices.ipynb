{
 "cells": [
  {
   "cell_type": "markdown",
   "id": "e7aa72d7",
   "metadata": {},
   "source": [
    "### ***This file is to be dedicated for exercices on OOP*** \n",
    "It will be divided into two sections: \n",
    "1. The first is to be exercises from the rafael course.\n",
    "2. The second is from AI generative tools \n",
    "\n",
    "\n",
    "#### ***Rafael Course OOP Exercises*** \n",
    "\n",
    "##### 1. Exercise N°1: \n",
    "Generating a bank Acount that a bank account class that has two properties: \n",
    "- A limit (maximimum amount to be held in the wallet)\n",
    "- A balance (The amount of money available in the wallet)\n"
   ]
  },
  {
   "cell_type": "code",
   "execution_count": null,
   "id": "43e116a1",
   "metadata": {},
   "outputs": [],
   "source": [
    "class Wallet():\n",
    "    def __init__(self,limit,balance): \n",
    "        self.limit = limit\n",
    "        self.balance = balance\n",
    "\n",
    "    def add_money(self,amount): # add money to the wallet\n",
    "        if self.balance + amount <= self.limit: # check if the limit is not exceeded\n",
    "            self.balance += amount\n",
    "            print(f\"New balance: {self.balance}\")\n",
    "        else:\n",
    "            print(\"Cannot add money, limit exceeded.\")\n",
    "    \n",
    "    def spend_money(self,amount):\n",
    "        if self.balance - amount >= 0:  # check if there is enough balance\n",
    "            self.balance -= amount\n",
    "            print(f\"New balance: {self.balance}\")\n",
    "        else:\n",
    "            print(\"Cannot spend money, insufficient balance.\")\n",
    "\n"
   ]
  },
  {
   "cell_type": "markdown",
   "id": "4d063f86",
   "metadata": {},
   "source": [
    "##### 2. Exercise N°2: \n",
    "So this is basically an extension of the previous Exercise, where i'm going to create a new class that inherits the properties of the first class (The wallet) but also adds two properties : \n",
    "- Crypto limit\n",
    "- Crypto Balance\n",
    "And finally i'll be creating a representaiton method that will allow me to represent the wallet"
   ]
  },
  {
   "cell_type": "code",
   "execution_count": null,
   "id": "40932a13",
   "metadata": {},
   "outputs": [
    {
     "data": {
      "text/plain": [
       "'                Your_limit = 1000 $  \\n                Your_Balance =  500 $ \\n                crypto_limit = 2 BTC \\n                crypto_balance = 1. \\n '"
      ]
     },
     "execution_count": 15,
     "metadata": {},
     "output_type": "execute_result"
    }
   ],
   "source": [
    "class CryptoWallet(Wallet): # Inheriting from the Wallet class\n",
    "    def __init__(self, limit, balance, crypto_limit, crypto_balance):\n",
    "        super().__init__(limit, balance) # calling the constructor of the parent class\n",
    "        self.crypto_limit = crypto_limit\n",
    "        self.crypto_balance = crypto_balance\n",
    "\n",
    "    def __str__(self):\n",
    "        content = f'\\\n",
    "                Your_limit = {self.limit} $  \\n\\\n",
    "                Your_Balance =  {self.balance} $ \\n\\\n",
    "                crypto_limit = {self.crypto_limit} BTC \\n\\\n",
    "                crypto_balance = {self.crypto_balance}. \\n '\n",
    "        return content\n",
    "\n",
    "Ibrahim_Wallet = CryptoWallet(1000, 500, 2, 1) # Creating an instance of the CryptoWallet class\n",
    "Ibrahim_Wallet.__str__() # Calling the __str__ method to represent the wallet"
   ]
  },
  {
   "cell_type": "markdown",
   "id": "92d136c9",
   "metadata": {},
   "source": [
    "##### 3. Exercice N°3: \n",
    "This is about encapsulating the properties limit and crypto_limit so they cannot be modified\n",
    "The final code of the entire wallet is below :\n"
   ]
  },
  {
   "cell_type": "code",
   "execution_count": 19,
   "id": "b126b24c",
   "metadata": {},
   "outputs": [
    {
     "data": {
      "text/plain": [
       "'                Your_limit = 1000 $  \\n                Your_Balance =  500 $ \\n                crypto_limit = 2 BTC \\n                crypto_balance = 1. \\n '"
      ]
     },
     "execution_count": 19,
     "metadata": {},
     "output_type": "execute_result"
    }
   ],
   "source": [
    "class Wallet():\n",
    "    def __init__(self,limit,balance): \n",
    "        self._limit = limit\n",
    "        self.balance = balance\n",
    "\n",
    "    def add_money(self,amount): # add money to the wallet\n",
    "        if self.balance + amount <= self.limit: # check if the limit is not exceeded\n",
    "            self.balance += amount\n",
    "            print(f\"New balance: {self.balance}\")\n",
    "        else:\n",
    "            print(\"Cannot add money, limit exceeded.\")\n",
    "    \n",
    "    def spend_money(self,amount):\n",
    "        if self.balance - amount >= 0:  # check if there is enough balance\n",
    "            self.balance -= amount\n",
    "            print(f\"New balance: {self.balance}\")\n",
    "        else:\n",
    "            print(\"Cannot spend money, insufficient balance.\")\n",
    "\n",
    "class CryptoWallet(Wallet): # Inheriting from the Wallet class\n",
    "    def __init__(self, limit, balance, crypto_limit, crypto_balance):\n",
    "        super().__init__(limit, balance) # calling the constructor of the parent class\n",
    "        self._crypto_limit = crypto_limit\n",
    "        self.crypto_balance = crypto_balance\n",
    "\n",
    "    def __str__(self):\n",
    "        content = f'\\\n",
    "                Your_limit = {self._limit} $  \\n\\\n",
    "                Your_Balance =  {self.balance} $ \\n\\\n",
    "                crypto_limit = {self._crypto_limit} BTC \\n\\\n",
    "                crypto_balance = {self.crypto_balance}. \\n '\n",
    "        return content\n",
    "    \n",
    "Ibrahim_Wallet = CryptoWallet(1000, 500, 2, 1) # Creating an instance of the CryptoWallet class\n",
    "Ibrahim_Wallet.__str__() # Calling the __str__ method to represent the wallet\n",
    "        \n",
    "\n"
   ]
  }
 ],
 "metadata": {
  "kernelspec": {
   "display_name": "Python 3",
   "language": "python",
   "name": "python3"
  },
  "language_info": {
   "codemirror_mode": {
    "name": "ipython",
    "version": 3
   },
   "file_extension": ".py",
   "mimetype": "text/x-python",
   "name": "python",
   "nbconvert_exporter": "python",
   "pygments_lexer": "ipython3",
   "version": "3.13.7"
  }
 },
 "nbformat": 4,
 "nbformat_minor": 5
}
