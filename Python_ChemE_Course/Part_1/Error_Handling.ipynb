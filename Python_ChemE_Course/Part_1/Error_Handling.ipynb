{
 "cells": [
  {
   "cell_type": "markdown",
   "id": "b04a351a",
   "metadata": {},
   "source": [
    "#### Error Handling In Python\n",
    "\n",
    "We can use the Try Except to make the code easier to handle from ourselves and others. \n",
    "\n",
    "Some Python Built-in Exceptions.  \n",
    " Exception | Function \n",
    " --------- | -------- \n",
    " AttributeError | Failed Attribute Assignement \n",
    " FileNotFoundError | File not found in the specific path\n",
    " IndexError | Index is out of the objects range \n",
    " KeyError | Key not found in a dictionary\n",
    " MemoryError | Ram limit reached\n",
    " ModuleNotFoundError | The module you're trying to import is not found \n",
    " NameError | Variable not found or doesn't exist \n",
    " SyntaxError | Incorrect syntax \n",
    " TypeError | Function argument is of the wrong type\n",
    " ZeroDivisionError | Division by zero is simply not possible\n",
    "\n",
    "The syntax of the try except is as follow : \n"
   ]
  },
  {
   "cell_type": "code",
   "execution_count": 3,
   "id": "ca5d9255",
   "metadata": {},
   "outputs": [
    {
     "name": "stdout",
     "output_type": "stream",
     "text": [
      "Division by zero is not allowed.\n"
     ]
    }
   ],
   "source": [
    "a = 0 \n",
    "try : \n",
    "    b = 5 / a \n",
    "except ZeroDivisionError :\n",
    "    print(\"Division by zero is not allowed.\")\n",
    "# Output: Division by zero is not allowed."
   ]
  },
  {
   "cell_type": "markdown",
   "id": "b9d05a57",
   "metadata": {},
   "source": [
    "We can raise a message to the user using *raise*\n",
    "\n",
    "##### Custom Exceptions \n"
   ]
  },
  {
   "cell_type": "code",
   "execution_count": 6,
   "id": "999f4592",
   "metadata": {},
   "outputs": [
    {
     "ename": "BlaBla",
     "evalue": "This is a custom exception message.",
     "output_type": "error",
     "traceback": [
      "\u001b[31m---------------------------------------------------------------------------\u001b[39m",
      "\u001b[31mBlaBla\u001b[39m                                    Traceback (most recent call last)",
      "\u001b[36mCell\u001b[39m\u001b[36m \u001b[39m\u001b[32mIn[6]\u001b[39m\u001b[32m, line 1\u001b[39m\n\u001b[32m----> \u001b[39m\u001b[32m1\u001b[39m \u001b[38;5;28;43;01mclass\u001b[39;49;00m\u001b[38;5;250;43m \u001b[39;49m\u001b[34;43;01mBlaBla\u001b[39;49;00m\u001b[43m(\u001b[49m\u001b[38;5;167;43;01mException\u001b[39;49;00m\u001b[43m)\u001b[49m\u001b[43m:\u001b[49m\n\u001b[32m      2\u001b[39m \u001b[43m    \u001b[49m\u001b[38;5;28;43;01mpass\u001b[39;49;00m\u001b[43m   \u001b[49m\n\u001b[32m      3\u001b[39m \u001b[43m    \u001b[49m\u001b[38;5;28;43;01mraise\u001b[39;49;00m\u001b[43m \u001b[49m\u001b[43mBlaBla\u001b[49m\u001b[43m(\u001b[49m\u001b[33;43m\"\u001b[39;49m\u001b[33;43mThis is a custom exception message.\u001b[39;49m\u001b[33;43m\"\u001b[39;49m\u001b[43m)\u001b[49m\n",
      "\u001b[36mCell\u001b[39m\u001b[36m \u001b[39m\u001b[32mIn[6]\u001b[39m\u001b[32m, line 3\u001b[39m, in \u001b[36mBlaBla\u001b[39m\u001b[34m()\u001b[39m\n\u001b[32m      1\u001b[39m \u001b[38;5;28;01mclass\u001b[39;00m\u001b[38;5;250m \u001b[39m\u001b[34;01mBlaBla\u001b[39;00m(\u001b[38;5;167;01mException\u001b[39;00m):\n\u001b[32m      2\u001b[39m     \u001b[38;5;28;01mpass\u001b[39;00m   \n\u001b[32m----> \u001b[39m\u001b[32m3\u001b[39m     \u001b[38;5;28;01mraise\u001b[39;00m BlaBla(\u001b[33m\"\u001b[39m\u001b[33mThis is a custom exception message.\u001b[39m\u001b[33m\"\u001b[39m)\n",
      "\u001b[31mBlaBla\u001b[39m: This is a custom exception message."
     ]
    }
   ],
   "source": [
    "class BlaBla(Exception):\n",
    "    pass   \n",
    "    raise BlaBla(\"This is a custom exception message.\")\n",
    "# This is a custom exception message.\n"
   ]
  },
  {
   "cell_type": "markdown",
   "id": "d5afce8b",
   "metadata": {},
   "source": [
    "#### Built in libraries \n",
    "the syntax for importing a library is as follows : \n",
    "> Import math \n",
    "*This will import everything the library has to offer*\n",
    "> Import math as m \n",
    "*Importing the library as a symbol m*\n",
    "> from math import cos \n",
    "*Importing only the cosine function* \n",
    "\n",
    "###### Some pre built-in libraries \n",
    " library | Description\n",
    " ------- | -----------\n",
    " math | contains mathematical functions\n",
    " collections | module with container options\n",
    " random | generates random numbers\n",
    " os.path | Module for file path manipulation\n",
    " time | Module for the time measurment data \n",
    "\n",
    " \n",
    "\n"
   ]
  }
 ],
 "metadata": {
  "kernelspec": {
   "display_name": "Python 3",
   "language": "python",
   "name": "python3"
  },
  "language_info": {
   "codemirror_mode": {
    "name": "ipython",
    "version": 3
   },
   "file_extension": ".py",
   "mimetype": "text/x-python",
   "name": "python",
   "nbconvert_exporter": "python",
   "pygments_lexer": "ipython3",
   "version": "3.13.7"
  }
 },
 "nbformat": 4,
 "nbformat_minor": 5
}
