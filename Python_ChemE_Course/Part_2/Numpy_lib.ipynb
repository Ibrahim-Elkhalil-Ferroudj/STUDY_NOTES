{
 "cells": [
  {
   "cell_type": "markdown",
   "id": "31a3666c",
   "metadata": {},
   "source": [
    "#### Numpy Library \n",
    "\n",
    "**Numpy is a python library that allows you to build multidimensional arrays.**\n",
    "\n",
    "Some array attributes \n",
    " Attribute | returns | Description\n",
    " --------- | ------- | ----------- \n",
    " ndarray.ndim | int | number of dimensions\n",
    " ndarray.shape | tuple | number of elements in each dimension\n",
    " ndarray.size | int | number of elements\n",
    " ndarray.dtype | dtype | data type of elements \n",
    "\n",
    "`np.array` is a function that returns ndarray object. \n",
    "\n",
    " We can use Numpy for math functions : \n",
    " - We can use all sorts of trigonometric functions.\n",
    " - We can use exponential and logarithmic functions. \n",
    " - We also have some mathematical constants. \n",
    "\n",
    "To import them we either use : \n",
    " - `import math`\n",
    " - `from numpy import cos, sin, pi, nan`\n",
    "\n",
    "##### Array Creation \n",
    "Functions to create arrays : \n",
    " Function | Description\n",
    " -------- | ---------- \n",
    " np.zeros | Array filled with zeros\n",
    " np.ones(shape) | Array filled with ones\n",
    " np.eye(dimension) | This produces the identity matrix\n",
    " np.arange(start, stop, step) | creates a one dimensional array\n",
    " np.linspace(start, stop, quantity) | Creates a one dimensional array \n",
    " np.vstack([arrays]) and hstack([arrays]) | adds elements from one or more arrays\n",
    "\n",
    "\n",
    "##### Methods for resizing arrays: \n",
    " Method | Description\n",
    " ------ | -----------\n",
    " reshape(new_shape) | returns an array with a specific shape\n",
    " resize(new_shape) | Modifies the shape of the array being applied\n",
    "\n",
    "***Note***: Pay attention to which methods modify the array and which returns new array. \n",
    "\n",
    "##### Basic operations with arrays \n",
    "The arrays in numpy have many functionalities of which they can behave like data structures such as vectors or matrices.\n",
    "\n",
    "Some of the basic operations and how do arrays behave : \n",
    "- Arrays accepts basic operations +, -, *, / and executes them element wise, so arrays must be exactly the same shame \n",
    "- Arrays also accept operations with a number (int, float).\n",
    "- Boolean operations are also accepted and returns an array filled with booleans. \n",
    "\n",
    "##### Numpy  Memory management\n",
    "*Remember that the numpy array is not dynamic also, be careful with objects when copying, manipulating and pasting*.\n",
    "\n",
    "- To copy an array we use the `.copy()` method. this makes a copy of the array.\n",
    "**Note that the equal sign does not execute this function**.\n",
    "\n",
    "###### Property\n",
    "`.base` : returns the base array that was used to create the current array.\n",
    "\n",
    "***Note***: We can use the logical operater `is` to checl if we have a new object. \n",
    "\n",
    "##### Statistical methods for arrays \n",
    "\n",
    " Method | Description\n",
    " ------ | -----------\n",
    " max(axis=None) | Returns the maximum value\n",
    " min(axis=None) | Returns the minumum value\n",
    " argmax(axis=None) | Returns the index of the maximum value\n",
    " argmin(axis=None) | Returns the index of the minimum value\n",
    " sum(axis=None) | Returns the sum of the array elements\n",
    " cumsum(axis=None) | Returns an array with the cumulative sum of the elements\n",
    " prod(axis=None) | Returns the product of the array elements \n",
    " cumprod(axis=None) | Returns an array with the cumulative product of the elements\n",
    " mean(axis=None) | Returns the mean of the array elements\n",
    " var(axis=None) | Returns the Variance of the elements\n",
    " std(axis=None) | Returns the standard deviation of the array\n",
    "\n",
    "**Note**: when the axis option is used, the operation will be performed along the specified axis.\n",
    "\n",
    "##### Array indexing and slicing\n",
    "\n",
    " Operation | Description\n",
    " --------- | -----------\n",
    " [i] | For one dimensional arrays, it works similar to lists\n",
    " [:i] | Displays an array from index 0 until i-1\n",
    " [i:] | Displays an array from element i until the last\n",
    " [::i] | Displays all the elements varying from i to i\n",
    " [::-i] | Displaysthe sequence from back to front of the elements between i and i\n",
    " [a:b:c] | start, end , step\n",
    " [i,j] | To display an element of a matrix\n",
    " [i,a:b] | Returns a slice of row i with elements from a to b\n",
    " [n,i,j] | Dimension, Row, Column \n",
    "\n",
    "\n",
    "##### Matrices in Numpy \n",
    "\n",
    "Numpy arrays can be directly interpreted as matrices\n",
    "\n",
    "###### Properties \n",
    "\n",
    " `.T` : Returns the transposed matrix \n",
    "\n",
    "###### Functions \n",
    "\n",
    " Function | Description \n",
    " -------- | ----------\n",
    " np.transpose(A) | Returns the transpose of the matrix A\n",
    " np.linalg.det(A) | Returns the determinant of (A)\n",
    " np.matmul(A,B) or @ | Returns the matrix multiplication of A by B\n",
    " np.matrix | Allows us to perform matrix operations\n",
    "\n",
    "*** Linalg is a seperate packege from Numpy***\n",
    "\n",
    "\n",
    "###### Vectors \n",
    "\n",
    " Function | Description\n",
    " -------- | -----------\n",
    " np.cross(a,b) | Cross product (Array must have at least 2 or 3 elements)\n",
    " np.dot(a,b) | Dot Product(Scalar product)\n",
    " np.linalg.norm(a) | Returns the norm of the vector \n",
    "\n"
   ]
  },
  {
   "cell_type": "markdown",
   "id": "cac1e857",
   "metadata": {},
   "source": [
    "#### Practice Exercises for the numpy library \n",
    "***I'll first be starting with the Exercises from the Python course*** \n",
    "\n",
    "##### Exercise 01 : \n",
    "**Task**: Create a 2 x 2 matrix fully filled with $\\pi$ and Then a 10 x 10 matrix filled with $\\pi$ as well\n"
   ]
  },
  {
   "cell_type": "code",
   "execution_count": 5,
   "id": "cc9990b0",
   "metadata": {},
   "outputs": [
    {
     "name": "stdout",
     "output_type": "stream",
     "text": [
      "[[3.14159265 3.14159265]\n",
      " [3.14159265 3.14159265]]\n",
      "[[3.14159265 3.14159265 3.14159265 3.14159265 3.14159265 3.14159265\n",
      "  3.14159265 3.14159265 3.14159265 3.14159265]\n",
      " [3.14159265 3.14159265 3.14159265 3.14159265 3.14159265 3.14159265\n",
      "  3.14159265 3.14159265 3.14159265 3.14159265]\n",
      " [3.14159265 3.14159265 3.14159265 3.14159265 3.14159265 3.14159265\n",
      "  3.14159265 3.14159265 3.14159265 3.14159265]\n",
      " [3.14159265 3.14159265 3.14159265 3.14159265 3.14159265 3.14159265\n",
      "  3.14159265 3.14159265 3.14159265 3.14159265]\n",
      " [3.14159265 3.14159265 3.14159265 3.14159265 3.14159265 3.14159265\n",
      "  3.14159265 3.14159265 3.14159265 3.14159265]\n",
      " [3.14159265 3.14159265 3.14159265 3.14159265 3.14159265 3.14159265\n",
      "  3.14159265 3.14159265 3.14159265 3.14159265]\n",
      " [3.14159265 3.14159265 3.14159265 3.14159265 3.14159265 3.14159265\n",
      "  3.14159265 3.14159265 3.14159265 3.14159265]\n",
      " [3.14159265 3.14159265 3.14159265 3.14159265 3.14159265 3.14159265\n",
      "  3.14159265 3.14159265 3.14159265 3.14159265]\n",
      " [3.14159265 3.14159265 3.14159265 3.14159265 3.14159265 3.14159265\n",
      "  3.14159265 3.14159265 3.14159265 3.14159265]\n",
      " [3.14159265 3.14159265 3.14159265 3.14159265 3.14159265 3.14159265\n",
      "  3.14159265 3.14159265 3.14159265 3.14159265]]\n"
     ]
    }
   ],
   "source": [
    "import numpy as np\n",
    "from numpy import pi \n",
    "\n",
    "matrix_2b2 = np.ones((2,2)) * pi\n",
    "matrix_10b10 = np.ones((10,10)) * pi\n",
    "print(matrix_2b2)\n",
    "print(matrix_10b10)\n",
    "\n"
   ]
  },
  {
   "cell_type": "markdown",
   "id": "ee0aa392",
   "metadata": {},
   "source": [
    "##### Exercise 02 : \n",
    "**Task**: Create a 2 x 10 matrix where both rows contain array of integers from 1 to 10\n",
    "Then change the last number of the matrix from 10 to 100 "
   ]
  },
  {
   "cell_type": "code",
   "execution_count": 11,
   "id": "79a7aab1",
   "metadata": {},
   "outputs": [
    {
     "name": "stdout",
     "output_type": "stream",
     "text": [
      "----- First way -----\n",
      "[[  1   2   3   4   5   6   7   8   9 100]\n",
      " [  1   2   3   4   5   6   7   8   9 100]]\n",
      "----------------------\n",
      "----- Second way -----\n",
      "[[  1   2   3   4   5   6   7   8   9 100]\n",
      " [  1   2   3   4   5   6   7   8   9 100]]\n"
     ]
    }
   ],
   "source": [
    "import numpy as np\n",
    "##### This is the first way to do it #####:\n",
    "print(\"----- First way -----\")\n",
    "matrix_2b10 = np.array([np.arange(1,11), np.arange(1,11)])\n",
    "matrix_2b10[::, 9] = 100\n",
    "print(matrix_2b10)\n",
    "\n",
    "print(\"----------------------\")\n",
    "print(\"----- Second way -----\")\n",
    "##### This is the second way to do it #####:\n",
    "a = np.arange(1,11)\n",
    "matrix_2b10_v2 = np.array([a, a])\n",
    "matrix_2b10_v2[::, 9] = 100\n",
    "print(matrix_2b10_v2)\n"
   ]
  },
  {
   "cell_type": "markdown",
   "id": "84391ad7",
   "metadata": {},
   "source": [
    "##### Exercise 3 : \n",
    "**Task** : Given an array of integers ranging from 0 to 100 return the standard deviation and variance of this array . "
   ]
  },
  {
   "cell_type": "code",
   "execution_count": 12,
   "id": "a5cc2201",
   "metadata": {},
   "outputs": [
    {
     "name": "stdout",
     "output_type": "stream",
     "text": [
      "Standard Deviation is :  29.154759474226502\n",
      "Variance is :  850.0\n"
     ]
    }
   ],
   "source": [
    "import numpy as np\n",
    "\n",
    "array_0_to_100 = np.arange(0,101)\n",
    "std_dev = np.std(array_0_to_100)\n",
    "variance = np.var(array_0_to_100)\n",
    "print(\"Standard Deviation is : \", std_dev)\n",
    "print(\"Variance is : \", variance)\n"
   ]
  },
  {
   "cell_type": "markdown",
   "id": "ee14ce81",
   "metadata": {},
   "source": [
    "##### Exercise 04 \n",
    "**Task**: Generate 3 x 10 matrix with random numbers. Then, extract an array with the last three items of the second row "
   ]
  },
  {
   "cell_type": "code",
   "execution_count": 13,
   "id": "9f073c7f",
   "metadata": {},
   "outputs": [
    {
     "name": "stdout",
     "output_type": "stream",
     "text": [
      "The 3x10 matrix with random numbers is : \n",
      " [[0.861287   0.21776474 0.73063691 0.12308798 0.70693272 0.50539698\n",
      "  0.63261193 0.93021829 0.82043209 0.84552575]\n",
      " [0.59116852 0.77083236 0.32951322 0.86850785 0.84766743 0.40218018\n",
      "  0.15240995 0.65325982 0.4454075  0.12646417]\n",
      " [0.92585308 0.62217452 0.68391311 0.29014276 0.78377227 0.86231509\n",
      "  0.4417208  0.3994713  0.36215179 0.41416104]]\n",
      "The last three items of the second row are :  [0.65325982 0.4454075  0.12646417]\n"
     ]
    }
   ],
   "source": [
    "import numpy as np\n",
    "import random\n",
    "matrix_3b10 = np.random.rand(3,10) # Generating 3 x 10 matrix with random numbers\n",
    "print(\"The 3x10 matrix with random numbers is : \\n\", matrix_3b10)\n",
    "last_three_items_second_row = matrix_3b10[1, -3:] # Extracting last three items of the second row\n",
    "print(\"The last three items of the second row are : \", last_three_items_second_row)\n"
   ]
  },
  {
   "cell_type": "markdown",
   "id": "047a1662",
   "metadata": {},
   "source": [
    "#### Chat GPT exercises \n",
    "***Now i'm moving to the exercises proposed by chat GPT*** \n",
    "##### 1. Array Creation \n",
    "- Create an array of integers from 0 to 9 \n",
    "- Create a 1D of 10 zeros, Then create a 1D of 10 one\n",
    "- Create an array of integers from 10 to 50 with a step of 2\n",
    "- Create a 3 x 3 identity matrix\n",
    "- Generate an array of 5 random numbers between 0 and 5"
   ]
  },
  {
   "cell_type": "code",
   "execution_count": 14,
   "id": "698fc1d5",
   "metadata": {},
   "outputs": [
    {
     "name": "stdout",
     "output_type": "stream",
     "text": [
      "Array of integers from 0 to 9 :  [0 1 2 3 4 5 6 7 8 9]\n",
      "1D array of 10 zeros :  [0. 0. 0. 0. 0. 0. 0. 0. 0. 0.]\n",
      "1D array of 10 ones :  [1. 1. 1. 1. 1. 1. 1. 1. 1. 1.]\n",
      "Array of integers from 10 to 50 with a step of 2 :  [10 12 14 16 18 20 22 24 26 28 30 32 34 36 38 40 42 44 46 48 50]\n",
      "3 x 3 identity matrix : \n",
      " [[1. 0. 0.]\n",
      " [0. 1. 0.]\n",
      " [0. 0. 1.]]\n",
      "Array of 5 random numbers between 0 and 5 :  [2.48034264 2.80707318 0.19319375 0.84131107 3.08251495]\n"
     ]
    }
   ],
   "source": [
    "import numpy as np\n",
    "import random\n",
    "\n",
    "# Creating an array of integers from 0 to 9\n",
    "array_0_to_9 = np.arange(10)\n",
    "print(\"Array of integers from 0 to 9 : \", array_0_to_9)\n",
    "# Creating a 1D array of 10 zeros and a 1D array of 10 ones\n",
    "array_10_zeros = np.zeros(10)\n",
    "array_10_ones = np.ones(10)\n",
    "print(\"1D array of 10 zeros : \", array_10_zeros)\n",
    "print(\"1D array of 10 ones : \", array_10_ones)\n",
    "\n",
    "# Creating an array of integers from 10 to 50 with a step of 2\n",
    "array_10_to_50_step_2 = np.arange(10, 51, 2)\n",
    "print(\"Array of integers from 10 to 50 with a step of 2 : \", array_10_to_50_step_2)\n",
    "# Creating a 3 x 3 identity matrix\n",
    "identity_matrix_3b3 = np.eye(3)\n",
    "print(\"3 x 3 identity matrix : \\n\", identity_matrix_3b3)\n",
    "# Generating an array of 5 random numbers between 0 and 5\n",
    "array_5_random_0_to_5 = np.random.uniform(0, 5, 5)\n",
    "print(\"Array of 5 random numbers between 0 and 5 : \", array_5_random_0_to_5)\n",
    "\n"
   ]
  },
  {
   "cell_type": "markdown",
   "id": "c7bf174f",
   "metadata": {},
   "source": [
    "#### 2. Indexing and slicing \n",
    "**Task** : \n",
    "- Extract the first three elements of an array `[10,20,30,40,50]`\n",
    "- Reverse the array `[1,2,3,4,5,6]`\n",
    "- Given an array `arr=np.arange(25).reshape(5,5)`, extract : \n",
    "    - The element in **row 2**, **Column 3**.\n",
    "    - The entire **First Column**.\n",
    "    - The **last row**."
   ]
  },
  {
   "cell_type": "code",
   "execution_count": 15,
   "id": "885ccd59",
   "metadata": {},
   "outputs": [
    {
     "name": "stdout",
     "output_type": "stream",
     "text": [
      "First three elements of the array [10,20,30,40,50] are :  [10 20 30]\n",
      "----------------------\n",
      "Reversed array of [1,2,3,4,5,6] is :  [6 5 4 3 2 1]\n",
      "----------------------\n",
      "Given array arr is : \n",
      " [[ 0  1  2  3  4]\n",
      " [ 5  6  7  8  9]\n",
      " [10 11 12 13 14]\n",
      " [15 16 17 18 19]\n",
      " [20 21 22 23 24]]\n",
      "Element in row 2, column 3 is :  7\n",
      "Entire first column is :  [ 0  5 10 15 20]\n",
      "Last row is :  [20 21 22 23 24]\n"
     ]
    }
   ],
   "source": [
    "import numpy as np\n",
    "# Extracting the first three elements of an array [10,20,30,40,50]\n",
    "array_1 = np.array([10,20,30,40,50])\n",
    "first_three_elements = array_1[:3]\n",
    "print(\"First three elements of the array [10,20,30,40,50] are : \", first_three_elements)\n",
    "print(\"----------------------\")\n",
    "# Reversing the array [1,2,3,4,5,6]\n",
    "array_2 = np.array([1,2,3,4,5,6])\n",
    "reversed_array = array_2[::-1]\n",
    "print(\"Reversed array of [1,2,3,4,5,6] is : \", reversed_array)\n",
    "print(\"----------------------\")\n",
    "# Given an array arr=np.arange(25).reshape(5,5), extracting the required elements\n",
    "arr = np.arange(25).reshape(5,5)\n",
    "element_row2_col3 = arr[1, 2] # Row 2, Column 3 (indexing starts from 0)\n",
    "first_column = arr[:, 0] # Entire First Column\n",
    "last_row = arr[-1, :] # Last row\n",
    "print(\"Given array arr is : \\n\", arr)\n",
    "print(\"Element in row 2, column 3 is : \", element_row2_col3)\n",
    "print(\"Entire first column is : \", first_column)\n",
    "print(\"Last row is : \", last_row)\n",
    "\n"
   ]
  },
  {
   "cell_type": "markdown",
   "id": "277affbb",
   "metadata": {},
   "source": [
    "#### 3. Array Operations \n",
    "**Tasks**:\n",
    "- Create two arrays `a=np.array([1,2,3])`, `b=np.array([4,5,6])`, Then compute : \n",
    "    - `a+b`\n",
    "    - `a*b`\n",
    "    - Dot product of `a` and `b`.\n",
    "- Given an array `x=np.array([2,4,6,8,10])`, Compute : \n",
    "    - The mean\n",
    "    - The standard deviation\n",
    "    - The sum\n"
   ]
  },
  {
   "cell_type": "code",
   "execution_count": 2,
   "id": "08f9e6e1",
   "metadata": {},
   "outputs": [
    {
     "name": "stdout",
     "output_type": "stream",
     "text": [
      "Array a is :  [1 2 3]\n",
      "Array b is :  [4 5 6]\n",
      "Sum of a and b is :  [5 7 9]\n",
      "Product of a and b is :  [ 4 10 18]\n",
      "Dot product of a and b is :  32\n",
      "----------------------\n",
      "Given array x is :  [ 2  4  6  8 10]\n",
      "Mean of x is :  6.0\n",
      "Standard Deviation of x is :  2.8284271247461903\n",
      "Sum of all elements in x is :  30\n"
     ]
    }
   ],
   "source": [
    "import numpy as np\n",
    "# Creating two arrays and computing their sum , product and dot product\n",
    "array_a = np.array([1,2,3])\n",
    "array_b = np.array([4,5,6])\n",
    "sum_ab = array_a + array_b\n",
    "product_ab = array_a * array_b\n",
    "dot_product_ab = np.dot(array_a, array_b)\n",
    "print(\"Array a is : \", array_a)\n",
    "print(\"Array b is : \", array_b)\n",
    "print(\"Sum of a and b is : \", sum_ab)\n",
    "print(\"Product of a and b is : \", product_ab)\n",
    "print(\"Dot product of a and b is : \", dot_product_ab)\n",
    "print(\"----------------------\")\n",
    "\n",
    "# Given an array compute the mean, standard deviation and the sum of all the elements\n",
    "x = np.array([2,4,6,8,10])\n",
    "mean_x = np.mean(x)\n",
    "std_dev_x = np.std(x)\n",
    "sum_x = np.sum(x)\n",
    "print(\"Given array x is : \", x)\n",
    "print(\"Mean of x is : \", mean_x)\n",
    "print(\"Standard Deviation of x is : \", std_dev_x)\n",
    "print(\"Sum of all elements in x is : \", sum_x)"
   ]
  },
  {
   "cell_type": "markdown",
   "id": "911d953a",
   "metadata": {},
   "source": [
    "### Reshaping and stacking \n",
    "**Tasks** : \n",
    "- Create an array of numbers from 1 to 12 then reshape into a 3 x 4 matrix\n",
    "- Stack the arrays `[1,2,3]`, `[4,5,6]` vertically and horizontally. \n"
   ]
  },
  {
   "cell_type": "code",
   "execution_count": 2,
   "id": "87606df2",
   "metadata": {},
   "outputs": [
    {
     "name": "stdout",
     "output_type": "stream",
     "text": [
      "Array of numbers from 1 to 12 reshaped to a 3x4 matrix is : \n",
      " [[ 1  2  3  4]\n",
      " [ 5  6  7  8]\n",
      " [ 9 10 11 12]]\n",
      "----------------------\n",
      "Array 1 is :  [1 2 3]\n",
      "Array 2 is :  [4 5 6]\n",
      "Vertical stack of array 1 and array 2 is : \n",
      " [[1 2 3]\n",
      " [4 5 6]]\n",
      "Horizontal stack of array 1 and array 2 is :  [1 2 3 4 5 6]\n"
     ]
    }
   ],
   "source": [
    "import numpy as np\n",
    "# Creating an array of numbers from 1 to 12 and reshaping it to a 3x4 matrix\n",
    "array_1_to_12 = np.arange(1, 13)\n",
    "matrix_3b4 = array_1_to_12.reshape(3, 4)\n",
    "print(\"Array of numbers from 1 to 12 reshaped to a 3x4 matrix is : \\n\", matrix_3b4)\n",
    "\n",
    "print(\"----------------------\")\n",
    "\n",
    "# Stacking two arrays vertically and horizontally\n",
    "array_1 = np.array([1,2,3])\n",
    "array_2 = np.array([4,5,6])\n",
    "vertical_stack = np.vstack((array_1, array_2))\n",
    "horizontal_stack = np.hstack((array_1, array_2))\n",
    "print(\"Array 1 is : \", array_1)\n",
    "print(\"Array 2 is : \", array_2)\n",
    "print(\"Vertical stack of array 1 and array 2 is : \\n\", vertical_stack)\n",
    "print(\"Horizontal stack of array 1 and array 2 is : \", horizontal_stack)\n",
    "\n",
    "\n"
   ]
  },
  {
   "cell_type": "markdown",
   "id": "138c13df",
   "metadata": {},
   "source": [
    "### Boolean indexing & flitering \n",
    "**Tasks** : \n",
    "- Given an `arr=np.array([5,10,15,20,25,30])`, Extract all the elements greater than 15\n",
    "- Replace all the elements in arr greater than 20 by `-1`\n"
   ]
  },
  {
   "cell_type": "code",
   "execution_count": 4,
   "id": "0c4df326",
   "metadata": {},
   "outputs": [
    {
     "name": "stdout",
     "output_type": "stream",
     "text": [
      "Elements greater than 15 are :  [20 25 30]\n",
      "----------------------\n",
      "Array after replacing elements greater than 20 by -1 is :  [ 5 10 15 20 -1 -1]\n"
     ]
    }
   ],
   "source": [
    "import numpy as np\n",
    "# Extracting the elements greater than 15 from the array\n",
    "arr = np.array([5,10,15,20,25,30])\n",
    "filtered_elements = arr[arr > 15]\n",
    "print(\"Elements greater than 15 are : \", filtered_elements)\n",
    "print(\"----------------------\")\n",
    "# Replacing all the elements in arr greater than 20 by -1\n",
    "arr[arr > 20] = -1\n",
    "print(\"Array after replacing elements greater than 20 by -1 is : \", arr)\n"
   ]
  },
  {
   "cell_type": "markdown",
   "id": "d3f5fd8b",
   "metadata": {},
   "source": [
    "### GLM Exercises\n",
    "**These are selected exercises suggested by GLM**\n",
    "#### Array indexing and slicing \n",
    "**Task**: \n",
    "- Given an array `arr=np.array([1,2,3,4,5,6,7,8,9,10])`, Extract the elements having the indices 2,4,6\n",
    "- Create a boolean mask to extract the even numbers from this array"
   ]
  },
  {
   "cell_type": "code",
   "execution_count": 7,
   "id": "c4d3aada",
   "metadata": {},
   "outputs": [
    {
     "name": "stdout",
     "output_type": "stream",
     "text": [
      "Elements having the pair digits are :  [ 2  4  6  8 10]\n",
      "----------------------\n",
      "Elements having the odd digits are :  [1 3 5 7 9]\n"
     ]
    }
   ],
   "source": [
    "import numpy as np\n",
    "# Extracting the elements having the pair digits \n",
    "arr = np.array([1,2,3,4,5,6,7,8,9,10])\n",
    "extracted_elements = arr[arr % 2 == 0]\n",
    "print(\"Elements having the pair digits are : \", extracted_elements)\n",
    "print(\"----------------------\")\n",
    "# Extracting the elements having the odd digits\n",
    "extracted_odd_elements = arr[arr % 2 != 0]\n",
    "print(\"Elements having the odd digits are : \", extracted_odd_elements)\n",
    "\n"
   ]
  },
  {
   "cell_type": "markdown",
   "id": "fc83179a",
   "metadata": {},
   "source": [
    "### Mathematical operations \n",
    "**Tasks** :\n",
    "- Calculate the square and square root of each elements in an array \n",
    "- Calucalte the exponential\n",
    "- Calcualte the sine of each element in [0, $\\pi$/2, $\\pi$]"
   ]
  },
  {
   "cell_type": "code",
   "execution_count": null,
   "id": "9e07dcec",
   "metadata": {},
   "outputs": [
    {
     "name": "stdout",
     "output_type": "stream",
     "text": [
      "Given array is :  [ 1  4  9 16 25]\n",
      "Square of each element in the array is :  [  1  16  81 256 625]\n",
      "Square root of each element in the array is :  [1. 2. 3. 4. 5.]\n",
      "----------------------\n",
      "Exponential of each element in the array is :  [2.72000000e+00 5.46000000e+01 8.10308000e+03 8.88611052e+06\n",
      " 7.20048993e+10]\n",
      "----------------------\n",
      "Angles in radians are :  [0.         1.57079633 3.14159265]\n",
      "Sine of each element in [0, π/2, π] is :  [0. 1. 0.]\n"
     ]
    }
   ],
   "source": [
    "import numpy as np\n",
    "from numpy import pi\n",
    "\n",
    "#Calucalting the square and square root of each elements in an array\n",
    "array = np.array([1, 4, 9, 16, 25])\n",
    "squared_array = np.square(array)\n",
    "sqrt_array = np.sqrt(array)\n",
    "print(\"Given array is : \", array)\n",
    "print(\"Square of each element in the array is : \", squared_array)\n",
    "print(\"Square root of each element in the array is : \", sqrt_array)\n",
    "print(\"----------------------\")\n",
    "#Calculating the exponential of each element in the array\n",
    "exp_array = np.exp(array)\n",
    "round_exp_array = np.round(exp_array, 2) # Rounding to 2 decimal places for better readability\n",
    "print(\"Exponential of each element in the array is : \", round_exp_array)\n",
    "print(\"----------------------\")\n",
    "#Calculating the sine of each element in [0, π/2, π]\n",
    "angles = np.array([0, pi/2, pi])\n",
    "sine_values = np.sin(angles)\n",
    "round_sine_values = np.round(sine_values, 2) # Rounding to 2 decimal places for better readability\n",
    "print(\"Angles in radians are : \", angles)\n",
    "print(\"Sine of each element in [0, π/2, π] is : \", round_sine_values)\n",
    "\n"
   ]
  },
  {
   "cell_type": "markdown",
   "id": "b2a86633",
   "metadata": {},
   "source": [
    "### Broadcasting \n",
    "**Tasks** : \n",
    "- Add a 1D array to each row of 2D array \n",
    "- Multiply a 2 x 1 matrix with a 1 x 3 matrix \n",
    "- Normalize each row of a 2D matrix \n",
    "- Create a 3x3 matrix where each elements is the sum of it's rows and columns indices"
   ]
  },
  {
   "cell_type": "code",
   "execution_count": 11,
   "id": "9c7679b4",
   "metadata": {},
   "outputs": [
    {
     "name": "stdout",
     "output_type": "stream",
     "text": [
      "1D array is :  [1 2 3]\n",
      "2D matrix is : \n",
      " [[4 5 6]\n",
      " [7 8 9]]\n",
      "Result of adding 1D array to each row of 2D matrix is : \n",
      " [[ 5  7  9]\n",
      " [ 8 10 12]]\n",
      "----------------------\n",
      "2 x 1 matrix is : \n",
      " [[1]\n",
      " [2]]\n",
      "1 x 3 matrix is :  [[3 4 5]]\n",
      "Result of multiplying 2 x 1 matrix with 1 x 3 matrix is : \n",
      " [[ 3  4  5]\n",
      " [ 6  8 10]]\n",
      "----------------------\n",
      "2D matrix to normalize is : \n",
      " [[1 2 3]\n",
      " [4 5 6]]\n",
      "Row sums are : \n",
      " [[ 6]\n",
      " [15]]\n",
      "Normalized matrix (each row sums to 1) is : \n",
      " [[0.16666667 0.33333333 0.5       ]\n",
      " [0.26666667 0.33333333 0.4       ]]\n",
      "----------------------\n",
      "3x3 matrix where each element is the sum of its row and column indices is : \n",
      " [[0 1 2]\n",
      " [1 2 3]\n",
      " [2 3 4]]\n"
     ]
    }
   ],
   "source": [
    "import numpy as np\n",
    "# Adding a 1D array to each row of 2D array\n",
    "array_1d = np.array([1, 2, 3])\n",
    "matrix_2d = np.array([[4, 5, 6], [7, 8, 9]])\n",
    "result_addition = matrix_2d + array_1d\n",
    "print(\"1D array is : \", array_1d)\n",
    "print(\"2D matrix is : \\n\", matrix_2d)\n",
    "print(\"Result of adding 1D array to each row of 2D matrix is : \\n\", result_addition)\n",
    "print(\"----------------------\")\n",
    "# Multiplying a 2 x 1 matrix with a 1 x 3 matrix\n",
    "matrix_2b1 = np.array([[1], [2]])\n",
    "matrix_1b3 = np.array([[3, 4, 5]])\n",
    "result_multiplication = np.dot(matrix_2b1, matrix_1b3)\n",
    "print(\"2 x 1 matrix is : \\n\", matrix_2b1)\n",
    "print(\"1 x 3 matrix is : \", matrix_1b3)\n",
    "print(\"Result of multiplying 2 x 1 matrix with 1 x 3 matrix is : \\n\", result_multiplication)\n",
    "print(\"----------------------\")\n",
    "# Normalizing each row of a 2D matrix\n",
    "matrix_2d_to_normalize = np.array([[1, 2, 3], [4, 5, 6]])\n",
    "row_sums = matrix_2d_to_normalize.sum(axis=1, keepdims=True)\n",
    "normalized_matrix = matrix_2d_to_normalize / row_sums\n",
    "print(\"2D matrix to normalize is : \\n\", matrix_2d_to_normalize)\n",
    "print(\"Row sums are : \\n\", row_sums)\n",
    "print(\"Normalized matrix (each row sums to 1) is : \\n\", normalized_matrix)\n",
    "print(\"----------------------\")\n",
    "# Creating a 3x3 matrix where each element is the sum of its row and column indices\n",
    "row_indices = np.arange(3).reshape(3, 1)\n",
    "col_indices = np.arange(3).reshape(1, 3)\n",
    "matrix_sum_indices = row_indices + col_indices\n",
    "print(\"3x3 matrix where each element is the sum of its row and column indices is : \\n\", matrix_sum_indices)\n",
    "\n"
   ]
  },
  {
   "cell_type": "markdown",
   "id": "77542122",
   "metadata": {},
   "source": [
    "### Linear Algebra \n",
    "**Tasks** : \n",
    "- Calculate the determinant of a 2x2 matrix \n",
    "- Calculate the inverse of the above matrix \n",
    "- Find the eigenvalues and eigenvectors of a matrix \n",
    "- Solve the system of equations : *2x + 3y = 8* , *3x + 4y = 11*\n",
    "- Calculate the rank of 3x3 matrix "
   ]
  },
  {
   "cell_type": "code",
   "execution_count": null,
   "id": "3a16aede",
   "metadata": {},
   "outputs": [
    {
     "name": "stdout",
     "output_type": "stream",
     "text": [
      "2x2 matrix is : \n",
      " [[4 7]\n",
      " [2 6]]\n",
      "Determinant of the matrix is :  10.000000000000002\n",
      "----------------------\n",
      "Inverse of the matrix is : \n",
      " [[ 0.6 -0.7]\n",
      " [-0.2  0.4]]\n",
      "----------------------\n",
      "Matrix for finding eigenvalues and eigenvectors is : \n",
      " [[1 2]\n",
      " [2 1]]\n",
      "Eigenvalues are :  [ 3. -1.]\n",
      "Eigenvectors are : \n",
      " [[ 0.70710678 -0.70710678]\n",
      " [ 0.70710678  0.70710678]]\n",
      "----------------------\n",
      "Coefficient matrix is : \n",
      " [[2 3]\n",
      " [3 4]]\n",
      "Constant matrix is :  [ 8 11]\n",
      "Solution (x, y) is :  [1. 2.]\n",
      "----------------------\n",
      "3x3 matrix is : \n",
      " [[1 2 3]\n",
      " [4 5 6]\n",
      " [7 8 9]]\n",
      "Rank of the matrix is :  2\n"
     ]
    }
   ],
   "source": [
    "import numpy as np\n",
    "# Caluclating the determinant of a 2x2 matrix\n",
    "matrix_2b2 = np.array([[4, 7], [2, 6]])\n",
    "determinant = np.linalg.det(matrix_2b2)\n",
    "print(\"2x2 matrix is : \\n\", matrix_2b2)\n",
    "print(\"Determinant of the matrix is : \", determinant)\n",
    "print(\"----------------------\")\n",
    "# Calculating the inverse of the above matrix\n",
    "inverse_matrix = np.linalg.inv(matrix_2b2)\n",
    "print(\"Inverse of the matrix is : \\n\", inverse_matrix)\n",
    "print(\"----------------------\")\n",
    "# Finding the eigenvalues and eigenvectors of a matrix\n",
    "matrix_for_eigen = np.array([[1, 2], [2, 1]])\n",
    "eigenvalues, eigenvectors = np.linalg.eig(matrix_for_eigen)\n",
    "print(\"Matrix for finding eigenvalues and eigenvectors is : \\n\", matrix_for_eigen)\n",
    "print(\"Eigenvalues are : \", eigenvalues)\n",
    "print(\"Eigenvectors are : \\n\", eigenvectors)\n",
    "print(\"----------------------\")\n",
    "# Solving the system of equations : 2x + 3y = 8 , 3x + 4y = 11\n",
    "coeff_matrix = np.array([[2, 3], [3, 4]])\n",
    "const_matrix = np.array([8, 11])\n",
    "solution = np.linalg.solve(coeff_matrix, const_matrix) # Solving the equations\n",
    "print(\"Coefficient matrix is : \\n\", coeff_matrix)\n",
    "print(\"Constant matrix is : \", const_matrix)\n",
    "print(\"Solution (x, y) is : \", solution)\n",
    "print(\"----------------------\")\n",
    "# Calculating the rank of 3x3 matrix\n",
    "matrix_3b3 = np.array([[1, 2, 3], [4, 5, 6], [7, 8, 9]])\n",
    "rank = np.linalg.matrix_rank(matrix_3b3) # Calculating the rank\n",
    "print(\"3x3 matrix is : \\n\", matrix_3b3)\n",
    "print(\"Rank of the matrix is : \", rank)\n"
   ]
  },
  {
   "cell_type": "markdown",
   "id": "fad4a31c",
   "metadata": {},
   "source": [
    "### Exercise Set 8: Random Numbers and More\n",
    "- Generate 5 random numbers from a uniform distribution between 0 and 1\n",
    "- Generate 5 random integers between 1 and 10\n",
    "- Generate a 3x3 matrix with random numbers from a normal distribution with mean 0 and standard deviation 1\n",
    "- Set a random seed of 42 and then generate 5 random integers between 1 and 10\n",
    "- Shuffle the array [1, 2, 3, 4, 5]\n",
    "- Choose 3 random elements from the array [1, 2, 3, 4, 5, 6, 7, 8, 9, 10] without replacement\n",
    "- Create a 5x5 matrix of random integers between 0 and 10, then replace all values greater than 5 with 5 and all values less than 3 with 3"
   ]
  },
  {
   "cell_type": "code",
   "execution_count": 13,
   "id": "f3c16faf",
   "metadata": {},
   "outputs": [
    {
     "name": "stdout",
     "output_type": "stream",
     "text": [
      "5 random numbers from a uniform distribution between 0 and 1 :  [0.01845783 0.98608309 0.12078383 0.71192549 0.40374801]\n",
      "----------------------\n",
      "5 random integers between 1 and 10 :  [7 5 4 2 2]\n",
      "----------------------\n",
      "3x3 matrix with random numbers from a normal distribution (mean=0, std=1) : \n",
      " [[-0.37913265 -1.18611427 -0.99064855]\n",
      " [ 0.16846297 -0.84715334  0.48570306]\n",
      " [-0.53509239 -0.97110325  1.5142976 ]]\n",
      "----------------------\n",
      "5 random integers between 1 and 10 with seed 42 :  [7 4 8 5 7]\n",
      "----------------------\n",
      "Shuffled array [1, 2, 3, 4, 5] :  [5 1 4 3 2]\n",
      "----------------------\n",
      "3 random elements chosen from the array [1, 2, 3, 4, 5, 6, 7, 8, 9, 10] without replacement :  [ 1  7 10]\n",
      "----------------------\n",
      "Original 5x5 matrix of random integers between 0 and 10 : \n",
      " [[ 1  4  0  9  5]\n",
      " [ 8  0 10 10  9]\n",
      " [ 2  6  3  8  2]\n",
      " [ 4  2  6  4  8]\n",
      " [ 6  1  3  8  1]]\n",
      "Modified matrix after replacing values greater than 5 with 5 and less than 3 with 3 : \n",
      " [[3 4 3 5 5]\n",
      " [5 3 5 5 5]\n",
      " [3 5 3 5 3]\n",
      " [4 3 5 4 5]\n",
      " [5 3 3 5 3]]\n"
     ]
    }
   ],
   "source": [
    "import numpy as np\n",
    "# Generating 5 random numbers from a uniform distribution between 0 and 1\n",
    "random_uniform = np.random.uniform(0, 1, 5)\n",
    "print(\"5 random numbers from a uniform distribution between 0 and 1 : \", random_uniform)\n",
    "print(\"----------------------\")\n",
    "# Generating 5 random integers between 1 and 10\n",
    "random_integers = np.random.randint(1, 11, 5) # takes 3 arguments (low, high, size)\n",
    "print(\"5 random integers between 1 and 10 : \", random_integers)\n",
    "print(\"----------------------\")\n",
    "# Generating a 3x3 matrix with random numbers from a normal distribution with mean 0 and standard deviation 1\n",
    "random_normal_matrix = np.random.normal(0, 1, (3, 3)) # takes 3 arguments (mean, std_dev, size)\n",
    "print(\"3x3 matrix with random numbers from a normal distribution (mean=0, std=1) : \\n\", random_normal_matrix)\n",
    "print(\"----------------------\")\n",
    "# Setting a random seed of 42 and then generating 5 random integers between 1 and 10\n",
    "np.random.seed(42)\n",
    "random_integers_seeded = np.random.randint(1, 11, 5)\n",
    "print(\"5 random integers between 1 and 10 with seed 42 : \", random_integers_seeded)\n",
    "print(\"----------------------\")\n",
    "# Shuffling the array [1, 2, 3, 4, 5]\n",
    "array_to_shuffle = np.array([1, 2, 3, 4, 5])\n",
    "np.random.shuffle(array_to_shuffle)\n",
    "print(\"Shuffled array [1, 2, 3, 4, 5] : \", array_to_shuffle)\n",
    "print(\"----------------------\")\n",
    "# Choosing 3 random elements from the array [1, 2, 3, 4, 5, 6, 7, 8, 9, 10] without replacement\n",
    "array_for_choice = np.array([1, 2, 3, 4, 5, 6, 7, 8, 9, 10])\n",
    "random_choice = np.random.choice(array_for_choice, 3, replace=False) #takes 3 arguments (array, size, replace)\n",
    "print(\"3 random elements chosen from the array [1, 2, 3, 4, 5, 6, 7, 8, 9, 10] without replacement : \", random_choice)\n",
    "print(\"----------------------\")\n",
    "# Creating a 5x5 matrix of random integers between 0 and 10, then replacing all values greater than 5 with 5 and all values less than 3 with 3\n",
    "random_matrix_5b5 = np.random.randint(0, 11, (5, 5))\n",
    "print(\"Original 5x5 matrix of random integers between 0 and 10 : \\n\", random_matrix_5b5)\n",
    "random_matrix_5b5[random_matrix_5b5 > 5] = 5\n",
    "random_matrix_5b5[random_matrix_5b5 < 3] = 3\n",
    "print(\"Modified matrix after replacing values greater than 5 with 5 and less than 3 with 3 : \\n\", random_matrix_5b5)\n",
    "\n",
    "\n"
   ]
  }
 ],
 "metadata": {
  "kernelspec": {
   "display_name": "Python 3",
   "language": "python",
   "name": "python3"
  },
  "language_info": {
   "codemirror_mode": {
    "name": "ipython",
    "version": 3
   },
   "file_extension": ".py",
   "mimetype": "text/x-python",
   "name": "python",
   "nbconvert_exporter": "python",
   "pygments_lexer": "ipython3",
   "version": "3.13.7"
  }
 },
 "nbformat": 4,
 "nbformat_minor": 5
}
