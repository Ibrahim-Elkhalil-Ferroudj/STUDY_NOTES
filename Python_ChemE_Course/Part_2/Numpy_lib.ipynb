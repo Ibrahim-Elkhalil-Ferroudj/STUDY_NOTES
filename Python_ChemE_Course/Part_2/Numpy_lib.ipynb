{
 "cells": [
  {
   "cell_type": "markdown",
   "id": "31a3666c",
   "metadata": {},
   "source": [
    "#### Numpy Library \n",
    "\n",
    "**Numpy is a python library that allows you to build multidimensional arrays.**\n",
    "\n",
    "Some array attributes \n",
    " Attribute | returns | Description\n",
    " --------- | ------- | ----------- \n",
    " ndarray.ndim | int | number of dimensions\n",
    " ndarray.shape | tuple | number of elements in each dimension\n",
    " ndarray.size | int | number of elements\n",
    " ndarray.dtype | dtype | data type of elements \n",
    "\n",
    "`np.array` is a function that returns ndarray object. \n",
    "\n",
    " We can use Numpy for math functions : \n",
    " - We can use all sorts of trigonometric functions.\n",
    " - We can use exponential and logarithmic functions. \n",
    " - We also have some mathematical constants. \n",
    "\n",
    "To import them we either use : \n",
    " - `import math`\n",
    " - `from numpy import cos, sin, pi, nan`\n",
    "\n",
    "##### Array Creation \n",
    "Functions to create arrays : \n",
    " Function | Description\n",
    " -------- | ---------- \n",
    " np.zeros | Array filled with zeros\n",
    " np.ones(shape) | Array filled with ones\n",
    " np.eye(dimension) | This produces the identity matrix\n",
    " np.arange(start, stop, step) | creates a one dimensional array\n",
    " np.linspace(start, stop, quantity) | Creates a one dimensional array \n",
    " np.vstack([arrays]) and hstack([arrays]) | adds elements from one or more arrays\n",
    "\n",
    "\n",
    "##### Methods for resizing arrays: \n",
    " Method | Description\n",
    " ------ | -----------\n",
    " reshape(new_shape) | returns an array with a specific shape\n",
    " resize(new_shape) | Modifies the shape of the array being applied\n",
    "\n",
    "***Note***: Pay attention to which methods modify the array and which returns new array. \n",
    "\n",
    "##### Basic operations with arrays \n",
    "The arrays in numpy have many functionalities of which they can behave like data structures such as vectors or matrices.\n",
    "\n",
    "Some of the basic operations and how do arrays behave : \n",
    "- Arrays accepts basic operations +, -, *, / and executes them element wise, so arrays must be exactly the same shame \n",
    "- Arrays also accept operations with a number (int, float).\n",
    "- Boolean operations are also accepted and returns an array filled with booleans. \n",
    "\n",
    "##### Numpy  Memory management\n",
    "*Remember that the numpy array is not dynamic also, be careful with objects when copying, manipulating and pasting*.\n",
    "\n",
    "- To copy an array we use the `.copy()` method. this makes a copy of the array.\n",
    "**Note that the equal sign does not execute this function**.\n",
    "\n",
    "###### Property\n",
    "`.base` : returns the base array that was used to create the current array.\n",
    "\n",
    "***Note***: We can use the logical operater `is` to checl if we have a new object. \n",
    "\n",
    "##### Statistical methods for arrays \n",
    "\n",
    " Method | Description\n",
    " ------ | -----------\n",
    " max(axis=None) | Returns the maximum value\n",
    " min(axis=None) | Returns the minumum value\n",
    " argmax(axis=None) | Returns the index of the maximum value\n",
    " argmin(axis=None) | Returns the index of the minimum value\n",
    " sum(axis=None) | Returns the sum of the array elements\n",
    " cumsum(axis=None) | Returns an array with the cumulative sum of the elements\n",
    " prod(axis=None) | Returns the product of the array elements \n",
    " cumprod(axis=None) | Returns an array with the cumulative product of the elements\n",
    " mean(axis=None) | Returns the mean of the array elements\n",
    " var(axis=None) | Returns the Variance of the elements\n",
    " std(axis=None) | Returns the standard deviation of the array\n",
    "\n",
    "**Note**: when the axis option is used, the operation will be performed along the specified axis.\n",
    "\n",
    "##### Array indexing and slicing\n",
    "\n",
    " Operation | Description\n",
    " --------- | -----------\n",
    " [i] | For one dimensional arrays, it works similar to lists\n",
    " [:i] | Displays an array from index 0 until i-1\n",
    " [i:] | Displays an array from element i until the last\n",
    " [::i] | Displays all the elements varying from i to i\n",
    " [::-i] | Displaysthe sequence from back to front of the elements between i and i\n",
    " [a:b:c] | start, end , step\n",
    " [i,j] | To display an element of a matrix\n",
    " [i,a:b] | Returns a slice of row i with elements from a to b\n",
    " [n,i,j] | Dimension, Row, Column \n",
    "\n",
    "\n",
    "##### Matrices in Numpy \n",
    "\n",
    "Numpy arrays can be directly interpreted as matrices\n",
    "\n",
    "###### Properties \n",
    "\n",
    " `.T` : Returns the transposed matrix \n",
    "\n",
    "###### Functions \n",
    "\n",
    " Function | Description \n",
    " -------- | ----------\n",
    " np.transpose(A) | Returns the transpose of the matrix A\n",
    " np.linalg.det(A) | Returns the determinant of (A)\n",
    " np.matmul(A,B) or @ | Returns the matrix multiplication of A by B\n",
    " np.matrix | Allows us to perform matrix operations\n",
    "\n",
    "*** Linalg is a seperate packege from Numpy***\n",
    "\n",
    "\n",
    "###### Vectors \n",
    "\n",
    " Function | Description\n",
    " -------- | -----------\n",
    " np.cross(a,b) | Cross product (Array must have at least 2 or 3 elements)\n",
    " np.dot(a,b) | Dot Product(Scalar product)\n",
    " np.linalg.norm(a) | Returns the norm of the vector \n",
    "\n"
   ]
  },
  {
   "cell_type": "markdown",
   "id": "cac1e857",
   "metadata": {},
   "source": [
    "#### Practice Exercises for the numpy library \n",
    "***I'll first be starting with the Exercises from the Python course*** \n",
    "\n",
    "##### Exercise 01 : \n",
    "**Task**: Create a 2 x 2 matrix fully filled with $\\pi$ and Then a 10 x 10 matrix filled with $\\pi$ as well\n"
   ]
  },
  {
   "cell_type": "code",
   "execution_count": 5,
   "id": "cc9990b0",
   "metadata": {},
   "outputs": [
    {
     "name": "stdout",
     "output_type": "stream",
     "text": [
      "[[3.14159265 3.14159265]\n",
      " [3.14159265 3.14159265]]\n",
      "[[3.14159265 3.14159265 3.14159265 3.14159265 3.14159265 3.14159265\n",
      "  3.14159265 3.14159265 3.14159265 3.14159265]\n",
      " [3.14159265 3.14159265 3.14159265 3.14159265 3.14159265 3.14159265\n",
      "  3.14159265 3.14159265 3.14159265 3.14159265]\n",
      " [3.14159265 3.14159265 3.14159265 3.14159265 3.14159265 3.14159265\n",
      "  3.14159265 3.14159265 3.14159265 3.14159265]\n",
      " [3.14159265 3.14159265 3.14159265 3.14159265 3.14159265 3.14159265\n",
      "  3.14159265 3.14159265 3.14159265 3.14159265]\n",
      " [3.14159265 3.14159265 3.14159265 3.14159265 3.14159265 3.14159265\n",
      "  3.14159265 3.14159265 3.14159265 3.14159265]\n",
      " [3.14159265 3.14159265 3.14159265 3.14159265 3.14159265 3.14159265\n",
      "  3.14159265 3.14159265 3.14159265 3.14159265]\n",
      " [3.14159265 3.14159265 3.14159265 3.14159265 3.14159265 3.14159265\n",
      "  3.14159265 3.14159265 3.14159265 3.14159265]\n",
      " [3.14159265 3.14159265 3.14159265 3.14159265 3.14159265 3.14159265\n",
      "  3.14159265 3.14159265 3.14159265 3.14159265]\n",
      " [3.14159265 3.14159265 3.14159265 3.14159265 3.14159265 3.14159265\n",
      "  3.14159265 3.14159265 3.14159265 3.14159265]\n",
      " [3.14159265 3.14159265 3.14159265 3.14159265 3.14159265 3.14159265\n",
      "  3.14159265 3.14159265 3.14159265 3.14159265]]\n"
     ]
    }
   ],
   "source": [
    "import numpy as np\n",
    "from numpy import pi \n",
    "\n",
    "matrix_2b2 = np.ones((2,2)) * pi\n",
    "matrix_10b10 = np.ones((10,10)) * pi\n",
    "print(matrix_2b2)\n",
    "print(matrix_10b10)\n",
    "\n"
   ]
  },
  {
   "cell_type": "markdown",
   "id": "ee0aa392",
   "metadata": {},
   "source": [
    "##### Exercise 02 : \n",
    "**Task**: Create a 2 x 10 matrix where both rows contain array of integers from 1 to 10\n",
    "Then change the last number of the matrix from 10 to 100 "
   ]
  },
  {
   "cell_type": "code",
   "execution_count": 11,
   "id": "79a7aab1",
   "metadata": {},
   "outputs": [
    {
     "name": "stdout",
     "output_type": "stream",
     "text": [
      "----- First way -----\n",
      "[[  1   2   3   4   5   6   7   8   9 100]\n",
      " [  1   2   3   4   5   6   7   8   9 100]]\n",
      "----------------------\n",
      "----- Second way -----\n",
      "[[  1   2   3   4   5   6   7   8   9 100]\n",
      " [  1   2   3   4   5   6   7   8   9 100]]\n"
     ]
    }
   ],
   "source": [
    "import numpy as np\n",
    "##### This is the first way to do it #####:\n",
    "print(\"----- First way -----\")\n",
    "matrix_2b10 = np.array([np.arange(1,11), np.arange(1,11)])\n",
    "matrix_2b10[::, 9] = 100\n",
    "print(matrix_2b10)\n",
    "\n",
    "print(\"----------------------\")\n",
    "print(\"----- Second way -----\")\n",
    "##### This is the second way to do it #####:\n",
    "a = np.arange(1,11)\n",
    "matrix_2b10_v2 = np.array([a, a])\n",
    "matrix_2b10_v2[::, 9] = 100\n",
    "print(matrix_2b10_v2)\n"
   ]
  },
  {
   "cell_type": "markdown",
   "id": "84391ad7",
   "metadata": {},
   "source": [
    "##### Exercise 3 : \n",
    "**Task** : Given an array of integers ranging from 0 to 100 return the standard deviation and variance of this array . "
   ]
  },
  {
   "cell_type": "code",
   "execution_count": 12,
   "id": "a5cc2201",
   "metadata": {},
   "outputs": [
    {
     "name": "stdout",
     "output_type": "stream",
     "text": [
      "Standard Deviation is :  29.154759474226502\n",
      "Variance is :  850.0\n"
     ]
    }
   ],
   "source": [
    "import numpy as np\n",
    "\n",
    "array_0_to_100 = np.arange(0,101)\n",
    "std_dev = np.std(array_0_to_100)\n",
    "variance = np.var(array_0_to_100)\n",
    "print(\"Standard Deviation is : \", std_dev)\n",
    "print(\"Variance is : \", variance)\n"
   ]
  },
  {
   "cell_type": "markdown",
   "id": "ee14ce81",
   "metadata": {},
   "source": [
    "##### Exercise 04 \n",
    "**Task**: Generate 3 x 10 matrix with random numbers. Then, extract an array with the last three items of the second row "
   ]
  },
  {
   "cell_type": "code",
   "execution_count": 13,
   "id": "9f073c7f",
   "metadata": {},
   "outputs": [
    {
     "name": "stdout",
     "output_type": "stream",
     "text": [
      "The 3x10 matrix with random numbers is : \n",
      " [[0.861287   0.21776474 0.73063691 0.12308798 0.70693272 0.50539698\n",
      "  0.63261193 0.93021829 0.82043209 0.84552575]\n",
      " [0.59116852 0.77083236 0.32951322 0.86850785 0.84766743 0.40218018\n",
      "  0.15240995 0.65325982 0.4454075  0.12646417]\n",
      " [0.92585308 0.62217452 0.68391311 0.29014276 0.78377227 0.86231509\n",
      "  0.4417208  0.3994713  0.36215179 0.41416104]]\n",
      "The last three items of the second row are :  [0.65325982 0.4454075  0.12646417]\n"
     ]
    }
   ],
   "source": [
    "import numpy as np\n",
    "import random\n",
    "matrix_3b10 = np.random.rand(3,10) # Generating 3 x 10 matrix with random numbers\n",
    "print(\"The 3x10 matrix with random numbers is : \\n\", matrix_3b10)\n",
    "last_three_items_second_row = matrix_3b10[1, -3:] # Extracting last three items of the second row\n",
    "print(\"The last three items of the second row are : \", last_three_items_second_row)\n"
   ]
  },
  {
   "cell_type": "markdown",
   "id": "047a1662",
   "metadata": {},
   "source": [
    "#### Chat GPT exercises \n",
    "***Now i'm moving to the exercises proposed by chat GPT*** \n",
    "##### 1. Array Creation \n",
    "- Create an array of integers from 0 to 9 \n",
    "- Create a 1D of 10 zeros, Then create a 1D of 10 one\n",
    "- Create an array of integers from 10 to 50 with a step of 2\n",
    "- Create a 3 x 3 identity matrix\n",
    "- Generate an array of 5 random numbers between 0 and 5"
   ]
  },
  {
   "cell_type": "code",
   "execution_count": 14,
   "id": "698fc1d5",
   "metadata": {},
   "outputs": [
    {
     "name": "stdout",
     "output_type": "stream",
     "text": [
      "Array of integers from 0 to 9 :  [0 1 2 3 4 5 6 7 8 9]\n",
      "1D array of 10 zeros :  [0. 0. 0. 0. 0. 0. 0. 0. 0. 0.]\n",
      "1D array of 10 ones :  [1. 1. 1. 1. 1. 1. 1. 1. 1. 1.]\n",
      "Array of integers from 10 to 50 with a step of 2 :  [10 12 14 16 18 20 22 24 26 28 30 32 34 36 38 40 42 44 46 48 50]\n",
      "3 x 3 identity matrix : \n",
      " [[1. 0. 0.]\n",
      " [0. 1. 0.]\n",
      " [0. 0. 1.]]\n",
      "Array of 5 random numbers between 0 and 5 :  [2.48034264 2.80707318 0.19319375 0.84131107 3.08251495]\n"
     ]
    }
   ],
   "source": [
    "import numpy as np\n",
    "import random\n",
    "\n",
    "# Creating an array of integers from 0 to 9\n",
    "array_0_to_9 = np.arange(10)\n",
    "print(\"Array of integers from 0 to 9 : \", array_0_to_9)\n",
    "# Creating a 1D array of 10 zeros and a 1D array of 10 ones\n",
    "array_10_zeros = np.zeros(10)\n",
    "array_10_ones = np.ones(10)\n",
    "print(\"1D array of 10 zeros : \", array_10_zeros)\n",
    "print(\"1D array of 10 ones : \", array_10_ones)\n",
    "\n",
    "# Creating an array of integers from 10 to 50 with a step of 2\n",
    "array_10_to_50_step_2 = np.arange(10, 51, 2)\n",
    "print(\"Array of integers from 10 to 50 with a step of 2 : \", array_10_to_50_step_2)\n",
    "# Creating a 3 x 3 identity matrix\n",
    "identity_matrix_3b3 = np.eye(3)\n",
    "print(\"3 x 3 identity matrix : \\n\", identity_matrix_3b3)\n",
    "# Generating an array of 5 random numbers between 0 and 5\n",
    "array_5_random_0_to_5 = np.random.uniform(0, 5, 5)\n",
    "print(\"Array of 5 random numbers between 0 and 5 : \", array_5_random_0_to_5)\n",
    "\n"
   ]
  },
  {
   "cell_type": "markdown",
   "id": "c7bf174f",
   "metadata": {},
   "source": [
    "#### 2. Indexing and slicing \n",
    "**Task** : \n",
    "- Extract the first three elements of an array `[10,20,30,40,50]`\n",
    "- Reverse the array `[1,2,3,4,5,6]`\n",
    "- Given an array `arr=np.arange(25).reshape(5,5)`, extract : \n",
    "    - The element in **row 2**, **Column 3**.\n",
    "    - The entire **First Column**.\n",
    "    - The **last row**."
   ]
  },
  {
   "cell_type": "code",
   "execution_count": 15,
   "id": "885ccd59",
   "metadata": {},
   "outputs": [
    {
     "name": "stdout",
     "output_type": "stream",
     "text": [
      "First three elements of the array [10,20,30,40,50] are :  [10 20 30]\n",
      "----------------------\n",
      "Reversed array of [1,2,3,4,5,6] is :  [6 5 4 3 2 1]\n",
      "----------------------\n",
      "Given array arr is : \n",
      " [[ 0  1  2  3  4]\n",
      " [ 5  6  7  8  9]\n",
      " [10 11 12 13 14]\n",
      " [15 16 17 18 19]\n",
      " [20 21 22 23 24]]\n",
      "Element in row 2, column 3 is :  7\n",
      "Entire first column is :  [ 0  5 10 15 20]\n",
      "Last row is :  [20 21 22 23 24]\n"
     ]
    }
   ],
   "source": [
    "import numpy as np\n",
    "# Extracting the first three elements of an array [10,20,30,40,50]\n",
    "array_1 = np.array([10,20,30,40,50])\n",
    "first_three_elements = array_1[:3]\n",
    "print(\"First three elements of the array [10,20,30,40,50] are : \", first_three_elements)\n",
    "print(\"----------------------\")\n",
    "# Reversing the array [1,2,3,4,5,6]\n",
    "array_2 = np.array([1,2,3,4,5,6])\n",
    "reversed_array = array_2[::-1]\n",
    "print(\"Reversed array of [1,2,3,4,5,6] is : \", reversed_array)\n",
    "print(\"----------------------\")\n",
    "# Given an array arr=np.arange(25).reshape(5,5), extracting the required elements\n",
    "arr = np.arange(25).reshape(5,5)\n",
    "element_row2_col3 = arr[1, 2] # Row 2, Column 3 (indexing starts from 0)\n",
    "first_column = arr[:, 0] # Entire First Column\n",
    "last_row = arr[-1, :] # Last row\n",
    "print(\"Given array arr is : \\n\", arr)\n",
    "print(\"Element in row 2, column 3 is : \", element_row2_col3)\n",
    "print(\"Entire first column is : \", first_column)\n",
    "print(\"Last row is : \", last_row)\n",
    "\n"
   ]
  },
  {
   "cell_type": "markdown",
   "id": "277affbb",
   "metadata": {},
   "source": [
    "#### 3. Array Operations \n",
    "**Tasks**:\n",
    "- Create two arrays `a=np.array([1,2,3])`, `b=np.array([4,5,6])`, Then compute : \n",
    "    - `a+b`\n",
    "    - `a*b`\n",
    "    - Dot product of `a` and `b`.\n",
    "- Given an array `x=np.array([2,4,6,8,10])`, Compute : \n",
    "    - The mean\n",
    "    - The standard deviation\n",
    "    - The sum\n"
   ]
  },
  {
   "cell_type": "code",
   "execution_count": 2,
   "id": "08f9e6e1",
   "metadata": {},
   "outputs": [
    {
     "name": "stdout",
     "output_type": "stream",
     "text": [
      "Array a is :  [1 2 3]\n",
      "Array b is :  [4 5 6]\n",
      "Sum of a and b is :  [5 7 9]\n",
      "Product of a and b is :  [ 4 10 18]\n",
      "Dot product of a and b is :  32\n",
      "----------------------\n",
      "Given array x is :  [ 2  4  6  8 10]\n",
      "Mean of x is :  6.0\n",
      "Standard Deviation of x is :  2.8284271247461903\n",
      "Sum of all elements in x is :  30\n"
     ]
    }
   ],
   "source": [
    "import numpy as np\n",
    "# Creating two arrays and computing their sum , product and dot product\n",
    "array_a = np.array([1,2,3])\n",
    "array_b = np.array([4,5,6])\n",
    "sum_ab = array_a + array_b\n",
    "product_ab = array_a * array_b\n",
    "dot_product_ab = np.dot(array_a, array_b)\n",
    "print(\"Array a is : \", array_a)\n",
    "print(\"Array b is : \", array_b)\n",
    "print(\"Sum of a and b is : \", sum_ab)\n",
    "print(\"Product of a and b is : \", product_ab)\n",
    "print(\"Dot product of a and b is : \", dot_product_ab)\n",
    "print(\"----------------------\")\n",
    "\n",
    "# Given an array compute the mean, standard deviation and the sum of all the elements\n",
    "x = np.array([2,4,6,8,10])\n",
    "mean_x = np.mean(x)\n",
    "std_dev_x = np.std(x)\n",
    "sum_x = np.sum(x)\n",
    "print(\"Given array x is : \", x)\n",
    "print(\"Mean of x is : \", mean_x)\n",
    "print(\"Standard Deviation of x is : \", std_dev_x)\n",
    "print(\"Sum of all elements in x is : \", sum_x)"
   ]
  },
  {
   "cell_type": "markdown",
   "id": "911d953a",
   "metadata": {},
   "source": [
    "### Reshaping and stacking \n",
    "**Tasks** : \n",
    "- Create an array of numbers from 1 to 12 then reshape into a 3 x 4 matrix"
   ]
  }
 ],
 "metadata": {
  "kernelspec": {
   "display_name": "Python 3",
   "language": "python",
   "name": "python3"
  },
  "language_info": {
   "codemirror_mode": {
    "name": "ipython",
    "version": 3
   },
   "file_extension": ".py",
   "mimetype": "text/x-python",
   "name": "python",
   "nbconvert_exporter": "python",
   "pygments_lexer": "ipython3",
   "version": "3.13.7"
  }
 },
 "nbformat": 4,
 "nbformat_minor": 5
}
