{
 "cells": [
  {
   "cell_type": "markdown",
   "id": "f902d77c",
   "metadata": {},
   "source": [
    "### This file is speicalized for some file and string handling \n",
    "\n",
    "Some prefixes for string formatting are the: \n",
    "- *f''*. \n",
    "- *r''* for raw.\n",
    "- *b''* fpr binary.\n",
    "- *u''* For unicode.\n",
    "\n",
    "\n",
    "To open and read files we use this syntax : \n",
    " > Path= 'C:.....' \n",
    " > with open(Path, 'r') as f:\n",
    "       > Content = f.read()\n",
    "\n",
    "**Note**: The parameters to the *Open()* are : \n",
    "- 'r': read\n",
    "- 'w' : write\n",
    "- 'wb' : write binary \n",
    "\n",
    "And the methodes are: \n",
    "- read() : Reads the content of the file and returns it as a string\n",
    "- readlines() : Reads the content of the files and returns it as a list \n",
    "\n",
    "***Here are some exercises. ***\n",
    "\n",
    "#### Exercise N°1: \n",
    "**Given any email, return the name and the domain**\n"
   ]
  },
  {
   "cell_type": "code",
   "execution_count": 2,
   "id": "24c6f507",
   "metadata": {},
   "outputs": [
    {
     "data": {
      "text/plain": [
       "['ibrahim.elkhalil', 'gmail']"
      ]
     },
     "execution_count": 2,
     "metadata": {},
     "output_type": "execute_result"
    }
   ],
   "source": [
    "def Email_split(email):\n",
    "    email_format= email.split('@')\n",
    "    email_format[1]= email_format[1].split('.')[0]\n",
    "    return email_format\n",
    "\n",
    "#Example usage\n",
    "Email_split('ibrahim.elkhalil@gmail.com')"
   ]
  },
  {
   "cell_type": "markdown",
   "id": "ca951693",
   "metadata": {},
   "source": [
    "#### Exercise N°2 : \n",
    "**Given a file that contains emails, return the username and the domain** \n"
   ]
  },
  {
   "cell_type": "code",
   "execution_count": null,
   "id": "11fd889b",
   "metadata": {},
   "outputs": [],
   "source": [
    "Path = r''\n",
    "with open(Path,'r') as file:\n",
    "    email_list = file.readlines()\n",
    "    returned_list = [Email_split(email.strip()) for email in email_list]\n",
    "\n",
    "def pretty_print(email_list):\n",
    "    for email in email_list:\n",
    "        print(f'Username: {email[0]} , Domain: {email[1]}')\n",
    "\n"
   ]
  },
  {
   "cell_type": "code",
   "execution_count": null,
   "id": "8d619e90",
   "metadata": {},
   "outputs": [],
   "source": [
    "def domain_count(email_list):\n",
    "    domain_dict = {}\n",
    "    for email in email_list:\n",
    "        domain = email[1]\n",
    "        if domain in domain_dict:\n",
    "            domain_dict[domain] += 1\n",
    "        else:\n",
    "            domain_dict[domain] = 1\n",
    "    return domain_dict\n"
   ]
  }
 ],
 "metadata": {
  "kernelspec": {
   "display_name": "Python 3",
   "language": "python",
   "name": "python3"
  },
  "language_info": {
   "codemirror_mode": {
    "name": "ipython",
    "version": 3
   },
   "file_extension": ".py",
   "mimetype": "text/x-python",
   "name": "python",
   "nbconvert_exporter": "python",
   "pygments_lexer": "ipython3",
   "version": "3.13.7"
  }
 },
 "nbformat": 4,
 "nbformat_minor": 5
}
