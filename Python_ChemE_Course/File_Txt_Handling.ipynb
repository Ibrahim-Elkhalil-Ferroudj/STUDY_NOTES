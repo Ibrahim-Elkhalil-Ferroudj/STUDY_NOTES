{
 "cells": [
  {
   "cell_type": "markdown",
   "id": "f902d77c",
   "metadata": {},
   "source": [
    "### This file is speicalized for some file and string handling \n",
    "\n",
    "Some prefixes for string formatting are the: \n",
    "- *f''*. \n",
    "- *r''* for raw.\n",
    "- *b''* fpr binary.\n",
    "- *u''* For unicode.\n",
    "\n",
    "\n",
    "To open and read files we use this syntax : \n",
    " > Path= 'C:.....' \n",
    " > with open(Path, 'r') as f:\n",
    "       > Content = f.read()\n",
    "\n",
    "**Note**: The parameters to the *Open()* are : \n",
    "- 'r': read\n",
    "- 'w' : write\n",
    "- 'wb' : write binary \n",
    "\n",
    "And the methodes are: \n",
    "- read() : Reads the content of the file and returns it as a string\n",
    "- readlines() : Reads the content of the files and returns it as a list \n",
    "\n",
    "***Here are some exercises. ***\n",
    "\n",
    "#### Exercise N°1: \n",
    "**Given any email, return the name and the domain**\n"
   ]
  },
  {
   "cell_type": "code",
   "execution_count": null,
   "id": "24c6f507",
   "metadata": {},
   "outputs": [
    {
     "data": {
      "text/plain": [
       "['ibrahim.elkhalil', 'gmail']"
      ]
     },
     "execution_count": 3,
     "metadata": {},
     "output_type": "execute_result"
    }
   ],
   "source": [
    "def Email_split(email):\n",
    "    email_format= email.split('@')\n",
    "    email_format[1]= email_format[1].split('.')[0]\n",
    "    return email_format\n",
    "\n",
    "#Example usage\n",
    "Email_split('ibrahim.elkhalil@gmail.com')"
   ]
  },
  {
   "cell_type": "markdown",
   "id": "ca951693",
   "metadata": {},
   "source": [
    "#### Exercise N°2 : \n",
    "**Given a file that contains emails, return the username and the domain** \n"
   ]
  },
  {
   "cell_type": "code",
   "execution_count": null,
   "id": "11fd889b",
   "metadata": {},
   "outputs": [],
   "source": []
  }
 ],
 "metadata": {
  "kernelspec": {
   "display_name": "Python 3",
   "language": "python",
   "name": "python3"
  },
  "language_info": {
   "codemirror_mode": {
    "name": "ipython",
    "version": 3
   },
   "file_extension": ".py",
   "mimetype": "text/x-python",
   "name": "python",
   "nbconvert_exporter": "python",
   "pygments_lexer": "ipython3",
   "version": "3.13.7"
  }
 },
 "nbformat": 4,
 "nbformat_minor": 5
}
