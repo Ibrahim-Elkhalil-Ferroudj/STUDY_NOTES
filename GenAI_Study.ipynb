{
 "cells": [
  {
   "cell_type": "markdown",
   "id": "764bc620",
   "metadata": {},
   "source": [
    "### This Notebook is going to be dedicated for the same OOP exercises but for the ones suggested by Generative AI tools \n",
    "\n",
    "#### I will be starting with the ones suggested by Grok \n",
    "\n",
    "1. ##### ***Exercise N°1: Basic Class and Object Creation***\n",
    "**Task**: Create a *Car* class with attributes for brand, model, and year. Include a method to display the car's details"
   ]
  },
  {
   "cell_type": "code",
   "execution_count": 2,
   "id": "591efd22",
   "metadata": {},
   "outputs": [
    {
     "name": "stdout",
     "output_type": "stream",
     "text": [
      "            Brand: Toyota\n",
      "            Model: Corolla\n",
      "            Year: 2020\n"
     ]
    }
   ],
   "source": [
    "class Car():\n",
    "    def __init__(self,brand,model,year):\n",
    "        self.brand = brand\n",
    "        self.model = model\n",
    "        self.year = year\n",
    "    def display_details(self):\n",
    "        details = f'\\\n",
    "            Brand: {self.brand}\\n\\\n",
    "            Model: {self.model}\\n\\\n",
    "            Year: {self.year}'\n",
    "        return details\n",
    "    \n",
    "# --- IGNORE ---\n",
    "my_car = Car('Toyota','Corolla',2020)\n",
    "print(my_car.display_details())"
   ]
  },
  {
   "cell_type": "markdown",
   "id": "bbfefc00",
   "metadata": {},
   "source": [
    "#### 2. ***Exercise N°2: Encapsulation with private attributes***\n",
    "**Task**: Create a *Bank account* class with a private balance attribute. Include methods to deposit, withdraw, and check balance, ensuring the balance cannot go negative."
   ]
  },
  {
   "cell_type": "code",
   "execution_count": 7,
   "id": "0bdedc79",
   "metadata": {},
   "outputs": [
    {
     "name": "stdout",
     "output_type": "stream",
     "text": [
      "Initial balance: 100\n",
      "Balance after deposit: 150\n",
      "Balance after withdrawal: 120\n"
     ]
    }
   ],
   "source": [
    "class BankAccount():\n",
    "    def __init__(self, initial_balance=0):\n",
    "        self.__balance = initial_balance # Private attribute\n",
    "\n",
    "    def deposit(self, amount):\n",
    "        if amount > 0:\n",
    "            self.__balance += amount\n",
    "        else:\n",
    "            print(\"Deposit amount must be positive.\")\n",
    "\n",
    "    def withdraw(self, amount):\n",
    "        if 0 < amount <= self.__balance:\n",
    "            self.__balance -= amount\n",
    "        else:\n",
    "            print(\"Insufficient funds or invalid withdrawal amount.\")\n",
    "\n",
    "    def check_balance(self):\n",
    "        return self.__balance\n",
    "\n",
    "# --- IGNORE ---\n",
    "my_account = BankAccount(100)\n",
    "print(f'Initial balance: {my_account.check_balance()}')\n",
    "my_account.deposit(50)\n",
    "print(f'Balance after deposit: {my_account.check_balance()}')\n",
    "my_account.withdraw(30)\n",
    "print(f'Balance after withdrawal: {my_account.check_balance()}')\n"
   ]
  },
  {
   "cell_type": "markdown",
   "id": "1acfcaac",
   "metadata": {},
   "source": [
    "#### 3. ***Exercice N°3: Inheritance and method overriding***\n",
    "**Task**: Create a base class *Animal* with a *speak* method. Create two derived classes, *Dog* and *Cat*, That override the *speak* method"
   ]
  },
  {
   "cell_type": "code",
   "execution_count": 11,
   "id": "2936d89f",
   "metadata": {},
   "outputs": [
    {
     "name": "stdout",
     "output_type": "stream",
     "text": [
      "Buddy says Woof!\n",
      "Whiskers says Meow!\n"
     ]
    }
   ],
   "source": [
    "class Animal():\n",
    "    def __init__(self, name):\n",
    "        self.name = name\n",
    "    def speak(self):\n",
    "        return f\"{self.name} makes a sound.\"\n",
    "class Dog(Animal):\n",
    "    def speak(self):\n",
    "        return f\"{self.name} says Woof!\"\n",
    "class Cat(Animal):\n",
    "    def speak(self):\n",
    "        return f\"{self.name} says Meow!\"\n",
    "    \n",
    "    \n",
    "# --- IGNORE ---\n",
    "dog = Dog(\"Buddy\")\n",
    "cat = Cat(\"Whiskers\")\n",
    "print(dog.speak())\n",
    "print(cat.speak())\n"
   ]
  },
  {
   "cell_type": "markdown",
   "id": "daf9f3d2",
   "metadata": {},
   "source": [
    "#### 4. ***Exercise N°4: Polymorphism with a common interface***\n",
    "**Task**: Create a *shape* base class with an *area* method. Create two derived classes, *Circle* and *Rectangle*, that implement the *area* method differently."
   ]
  },
  {
   "cell_type": "code",
   "execution_count": 14,
   "id": "20605af7",
   "metadata": {},
   "outputs": [
    {
     "name": "stdout",
     "output_type": "stream",
     "text": [
      "Area of the circle: 78.53981633974483\n",
      "Area of the rectangle: 24\n"
     ]
    }
   ],
   "source": [
    "import math\n",
    "class shape():\n",
    "    def area(self):\n",
    "        pass\n",
    "class Circle(shape):\n",
    "    def __init__(self, radius):\n",
    "        self.radius = radius\n",
    "    def area(self):\n",
    "            return math.pi* (self.radius ** 2)\n",
    "class Rectangle(shape):\n",
    "    def __init__(self, width, height):\n",
    "        self.width = width\n",
    "        self.height = height\n",
    "    def area(self):\n",
    "        return self.width * self.height\n",
    "    \n",
    "# --- IGNORE ---\n",
    "circle = Circle(5)\n",
    "rectangle = Rectangle(4, 6)\n",
    "print(f'Area of the circle: {circle.area()}')\n",
    "print(f'Area of the rectangle: {rectangle.area()}')\n",
    "\n"
   ]
  },
  {
   "cell_type": "markdown",
   "id": "d108c831",
   "metadata": {},
   "source": [
    "#### 5. ***Exercise N°5: Abstraction with abstract base class***\n",
    "*Task*: Create an abstract base class *vehicle* with an abstract method *start-engine*. Create two concrete classes, *Motorcycle* and *Truck*, that implement *Start-engine* "
   ]
  },
  {
   "cell_type": "code",
   "execution_count": 15,
   "id": "e2a19298",
   "metadata": {},
   "outputs": [
    {
     "name": "stdout",
     "output_type": "stream",
     "text": [
      "Harley motorcycle engine starts with a roar!\n",
      "Ford truck engine starts with a rumble!\n"
     ]
    }
   ],
   "source": [
    "from abc import ABC, abstractmethod\n",
    "\n",
    "class Vehicle(ABC):\n",
    "    def __init__(self, brand):\n",
    "        self.brand = brand\n",
    "    \n",
    "    @abstractmethod\n",
    "    def start_engine(self):\n",
    "        pass\n",
    "\n",
    "class Motorcycle(Vehicle):\n",
    "    def start_engine(self):\n",
    "        return f\"{self.brand} motorcycle engine starts with a roar!\"\n",
    "\n",
    "class Truck(Vehicle):\n",
    "    def start_engine(self):\n",
    "        return f\"{self.brand} truck engine starts with a rumble!\"\n",
    "\n",
    "# Example usage\n",
    "moto = Motorcycle(\"Harley\")\n",
    "truck = Truck(\"Ford\")\n",
    "print(moto.start_engine())  # Harley motorcycle engine starts with a roar!\n",
    "print(truck.start_engine())  # Ford truck engine starts with a rumble!"
   ]
  },
  {
   "cell_type": "markdown",
   "id": "5e64366e",
   "metadata": {},
   "source": [
    "##### 6. ***Exercise N°6: Class Composition*** \n",
    "**Task**: Create en *Engine* class and a *Car* class that use en *Engine* object as a compontent to demonstrate composition"
   ]
  },
  {
   "cell_type": "code",
   "execution_count": null,
   "id": "d5183f40",
   "metadata": {},
   "outputs": [],
   "source": [
    "class Engine:\n",
    "    def __init__(self, horsepower):\n",
    "        self.horsepower = horsepower\n",
    "    \n",
    "    def start(self):\n",
    "        return f\"Engine with {self.horsepower} HP starts.\"\n",
    "\n",
    "class Car:\n",
    "    def __init__(self, brand, model, engine):\n",
    "        self.brand = brand\n",
    "        self.model = model\n",
    "        self.engine = engine\n",
    "    \n",
    "    def start_car(self):\n",
    "        return f\"{self.brand} {self.model}: {self.engine.start()}\"\n",
    "\n",
    "# Example usage\n",
    "engine = Engine(300)\n",
    "car = Car(\"BMW\", \"X5\", engine)\n",
    "print(car.start_car())  # BMW X5: Engine with 300 HP starts."
   ]
  }
 ],
 "metadata": {
  "kernelspec": {
   "display_name": "Python 3",
   "language": "python",
   "name": "python3"
  },
  "language_info": {
   "codemirror_mode": {
    "name": "ipython",
    "version": 3
   },
   "file_extension": ".py",
   "mimetype": "text/x-python",
   "name": "python",
   "nbconvert_exporter": "python",
   "pygments_lexer": "ipython3",
   "version": "3.13.7"
  }
 },
 "nbformat": 4,
 "nbformat_minor": 5
}
